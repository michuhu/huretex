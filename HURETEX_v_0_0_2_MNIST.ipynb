{
 "cells": [
  {
   "cell_type": "code",
   "execution_count": null,
   "id": "c1a6b781",
   "metadata": {},
   "outputs": [],
   "source": [
    "import pandas as pd\n",
    "import numpy as np\n",
    "import tensorflow as tf\n",
    "from keras import models\n",
    "from keras import layers\n",
    "from keras.datasets import mnist\n",
    "from sklearn.model_selection import train_test_split\n",
    "from sklearn.cluster import AgglomerativeClustering\n",
    "from geneticalgorithm import geneticalgorithm as ga\n",
    "from matplotlib import pyplot as plt"
   ]
  },
  {
   "cell_type": "code",
   "execution_count": null,
   "id": "59cf740b",
   "metadata": {},
   "outputs": [],
   "source": [
    "print(\"GPU dostępny:\", tf.config.list_physical_devices('GPU'))"
   ]
  },
  {
   "cell_type": "code",
   "execution_count": null,
   "id": "ca0c2c0b",
   "metadata": {},
   "outputs": [],
   "source": [
    "def get_rsfg(sis):\n",
    "    \n",
    "    num_cols = sis.shape[1]\n",
    "\n",
    "    rsfg_columns = [\"level\", \"relation\", \"support\", \"certainty\", \"coverage\", \"strength\"]\n",
    "\n",
    "    rsfg_df = pd.DataFrame(columns=rsfg_columns)\n",
    "\n",
    "    for level in range(num_cols - 1):\n",
    "        \n",
    "        edge_counts = {}\n",
    "        source_counts = {}\n",
    "        target_counts = {}\n",
    "        total_possible = len(sis.iloc[:, level + 1])\n",
    "        \n",
    "        for _, row in sis.iterrows():\n",
    "            \n",
    "            source = str(row.iloc[level])\n",
    "            target = str(row.iloc[level + 1])\n",
    "            key = (source, target)\n",
    "            edge_counts[key] = edge_counts.get(key, 0) + 1\n",
    "            source_counts[source] = source_counts.get(source, 0) + 1\n",
    "            target_counts[target] = target_counts.get(target, 0) + 1\n",
    "            \n",
    "        for (source, target), count in edge_counts.items():\n",
    "            \n",
    "            cer = count / source_counts[source] if source_counts[source] else 0\n",
    "            cov = count / target_counts[target] if target_counts[target] else 0\n",
    "            str_value = count / total_possible if total_possible else 0\n",
    "            lev = f\"{level}<>{level+1}\"\n",
    "            rel = f\"{source}-->{target}\"\n",
    "            \n",
    "            new_row = pd.DataFrame(data=np.array([[lev, rel, count, f\"{cer:.6f}\", f\"{cov:.6f}\", f\"{str_value:.6f}\"]]), columns=rsfg_columns)\n",
    "            \n",
    "            rsfg_df = pd.concat([rsfg_df, new_row], ignore_index=True)\n",
    "\n",
    "    return rsfg_df"
   ]
  },
  {
   "cell_type": "code",
   "execution_count": null,
   "id": "11c62e30",
   "metadata": {},
   "outputs": [],
   "source": [
    "(x_train_valid, y_train_valid), (x_test, y_test) = mnist.load_data()\n",
    "x_train, x_valid, y_train, y_valid = train_test_split(x_train_valid, y_train_valid, test_size=0.2, stratify=y_train_valid)\n",
    "\n",
    "x_train = x_train.reshape((x_train.shape[0], x_train.shape[1], x_train.shape[2], 1))\n",
    "x_valid = x_valid.reshape((x_valid.shape[0], x_valid.shape[1], x_valid.shape[2], 1))\n",
    "x_test = x_test.reshape((x_test.shape[0], x_test.shape[1], x_test.shape[2], 1))\n",
    "\n",
    "x_train = x_train.astype('float32')\n",
    "x_valid = x_valid.astype('float32')\n",
    "x_test = x_test.astype('float32')\n",
    "\n",
    "x_train = x_train/255.0\n",
    "x_valid = x_valid/255.0\n",
    "x_test = x_test/255.0\n",
    "\n",
    "y_train = tf.keras.utils.to_categorical(y_train)\n",
    "y_valid = tf.keras.utils.to_categorical(y_valid)\n",
    "y_test = tf.keras.utils.to_categorical(y_test)"
   ]
  },
  {
   "cell_type": "code",
   "execution_count": null,
   "id": "b5bfdfd2-dbd3-4c89-986e-a3c71cd7ca39",
   "metadata": {},
   "outputs": [],
   "source": [
    "# TODO: ekesperymenty z ilością filtrow\n",
    "\n",
    "n_filters_conv_1 = 4 # liczba filtrów w pierwszej warstwie konwolucyjnej\n",
    "filter_size_conv_1 = 5 # rozmiar okienka konwolucji\n",
    "n_filters_conv_2 = 4 # liczba filtrów w drugiej warstwie konwolucyjnej\n",
    "filter_size_conv_2 = 5 # rozmiar okienka konwolucji\n",
    "n_neurons_dense_1 = 50 # liczba neuronów w pierwszej warstwie gęstej\n",
    "n_neurons_dense_2 = 10 # liczba neuronów w drugiej warstwie gęstej\n",
    "\n",
    "n_epochs = 20 # liczba epok\n",
    "batch_size = 256 # rozmiar paczki"
   ]
  },
  {
   "cell_type": "code",
   "execution_count": null,
   "id": "35826b18-3976-4bdc-b0cd-a65c0400c0d4",
   "metadata": {
    "id": "35826b18-3976-4bdc-b0cd-a65c0400c0d4"
   },
   "outputs": [],
   "source": [
    "model = models.Sequential()\n",
    "model.add(layers.Conv2D(n_filters_conv_1, (filter_size_conv_1, filter_size_conv_1), activation='relu', input_shape=(x_train.shape[1], x_train.shape[2], x_train.shape[3])))\n",
    "model.add(layers.Conv2D(n_filters_conv_2, (filter_size_conv_2, filter_size_conv_2), activation='relu'))\n",
    "model.add(layers.Flatten())\n",
    "model.add(layers.Dense(n_neurons_dense_1, activation='relu'))\n",
    "model.add(layers.Dense(n_neurons_dense_2, activation='softmax', dtype='float32'))\n",
    "model.compile(optimizer='rmsprop', loss='categorical_crossentropy', metrics=['accuracy'])"
   ]
  },
  {
   "cell_type": "code",
   "execution_count": null,
   "id": "1fbb5bd4-da0a-42c2-93e4-072a18298c21",
   "metadata": {
    "colab": {
     "base_uri": "https://localhost:8080/",
     "height": 305
    },
    "executionInfo": {
     "elapsed": 251,
     "status": "ok",
     "timestamp": 1739864869811,
     "user": {
      "displayName": "Anna Burda",
      "userId": "09516679268739957570"
     },
     "user_tz": -60
    },
    "id": "1fbb5bd4-da0a-42c2-93e4-072a18298c21",
    "outputId": "a7e77112-140b-4343-9b97-4e2c28e4a012"
   },
   "outputs": [],
   "source": [
    "model.summary()"
   ]
  },
  {
   "cell_type": "code",
   "execution_count": null,
   "id": "c427ff81",
   "metadata": {},
   "outputs": [],
   "source": [
    "for layer in model.layers:\n",
    "    print(f\"{layer.name}: {layer.dtype}\")"
   ]
  },
  {
   "cell_type": "code",
   "execution_count": null,
   "id": "5860b552",
   "metadata": {},
   "outputs": [],
   "source": [
    "for layer in model.layers:\n",
    "    for weight in layer.weights:\n",
    "        print(f\"{weight.name} - dtype: {weight.dtype}\")\n"
   ]
  },
  {
   "cell_type": "code",
   "execution_count": null,
   "id": "2fa3d388",
   "metadata": {},
   "outputs": [],
   "source": [
    "print(x_train.dtype)"
   ]
  },
  {
   "cell_type": "code",
   "execution_count": null,
   "id": "fd586e66-ff40-44f7-afe0-5d00ff927a94",
   "metadata": {
    "id": "fd586e66-ff40-44f7-afe0-5d00ff927a94"
   },
   "outputs": [],
   "source": [
    "history = model.fit(x_train, y_train, epochs=n_epochs, batch_size=batch_size, validation_data=(x_valid, y_valid), verbose=2)"
   ]
  },
  {
   "cell_type": "code",
   "execution_count": null,
   "id": "3402d447-cec9-47cb-a71b-efdec2a236e0",
   "metadata": {
    "executionInfo": {
     "elapsed": 215,
     "status": "ok",
     "timestamp": 1739864901133,
     "user": {
      "displayName": "Anna Burda",
      "userId": "09516679268739957570"
     },
     "user_tz": -60
    },
    "id": "3402d447-cec9-47cb-a71b-efdec2a236e0"
   },
   "outputs": [],
   "source": [
    "layer_outputs = [layer.output for layer in model.layers]\n",
    "print(\"Input: \", model.layers[0].input.shape)\n",
    "print(\"Output: \", layer_outputs)\n",
    "activation_model = models.Model(inputs=model.layers[0].input, outputs=layer_outputs)"
   ]
  },
  {
   "cell_type": "code",
   "execution_count": null,
   "id": "d6c062a4",
   "metadata": {},
   "outputs": [],
   "source": [
    "activations = activation_model.predict(x=x_train)"
   ]
  },
  {
   "cell_type": "code",
   "execution_count": null,
   "id": "4eaaab53",
   "metadata": {},
   "outputs": [],
   "source": [
    "artifact_clusters = pd.DataFrame()\n",
    "print(artifact_clusters)"
   ]
  },
  {
   "cell_type": "markdown",
   "id": "a4333c87",
   "metadata": {},
   "source": [
    "## Zrównoleglone działanie"
   ]
  },
  {
   "cell_type": "code",
   "execution_count": null,
   "id": "f250f2fd",
   "metadata": {},
   "outputs": [],
   "source": [
    "import multiprocessing as mp\n",
    "\n",
    "print(mp.cpu_count())"
   ]
  },
  {
   "cell_type": "code",
   "execution_count": null,
   "id": "972f8b57",
   "metadata": {},
   "outputs": [],
   "source": [
    "from itertools import product\n",
    "\n",
    "a = (0, 1) # liczba warstw konwolucyjnych\n",
    "b = range(max(n_filters_conv_2, n_filters_conv_1)) # maksymalna liczba filtrów w warstwach konwolucyjnej\n",
    "\n",
    "kombinacje = list(product(a, b))\n",
    "print(kombinacje)\n"
   ]
  },
  {
   "cell_type": "markdown",
   "id": "321db4cd",
   "metadata": {},
   "source": [
    "### Pierwsza metoda (szybsza)"
   ]
  },
  {
   "cell_type": "code",
   "execution_count": null,
   "id": "88205234",
   "metadata": {},
   "outputs": [],
   "source": [
    "from joblib import Parallel, delayed\n",
    "from sklearn.cluster import AgglomerativeClustering\n",
    "\n",
    "def process_filter(l, f):\n",
    "    print(f'filter: {f}')\n",
    "    activations_f = activations[l][:,:,:,f]\n",
    "    activations_f = activations_f.reshape([activations_f.shape[0], activations_f.shape[1]*activations_f.shape[2]])\n",
    "    ac_f = AgglomerativeClustering(n_clusters=10).fit(activations_f)\n",
    "    print(f, activations_f[0, :3])\n",
    "    return l, f, ac_f.labels_\n",
    "\n",
    "results = Parallel(n_jobs=-1)(delayed(process_filter)(l, f) for l, f in kombinacje)\n",
    "\n",
    "for l, f, labels in results:\n",
    "    artifact_clusters[f'l{l}_f{f}'] = labels\n"
   ]
  },
  {
   "cell_type": "markdown",
   "id": "da9c6fbe",
   "metadata": {},
   "source": [
    "### Druga metoda (nieco wolniejsza)"
   ]
  },
  {
   "cell_type": "code",
   "execution_count": null,
   "id": "2225b1a4",
   "metadata": {},
   "outputs": [],
   "source": [
    "from multiprocessing import Pool, cpu_count\n",
    "\n",
    "def process_filter(lf):\n",
    "    l, f = lf\n",
    "    print(f'layer: {l} filter: {f}')\n",
    "    activations_f = activations[l][:,:,:,f]\n",
    "    activations_f = activations_f.reshape([activations_f.shape[0], activations_f.shape[1]*activations_f.shape[2]])\n",
    "    ac_f = AgglomerativeClustering(n_clusters=10).fit(activations_f)\n",
    "    print(f, activations_f[0, :3])\n",
    "    return l, f, ac_f.labels_\n",
    "\n",
    "with Pool(processes=mp.cpu_count()) as pool:\n",
    "    results = pool.map(process_filter, [(l, f) for l, f in kombinacje])\n",
    "\n",
    "for l, f, labels in results:\n",
    "    artifact_clusters[f'l{l}_f{f}'] = labels"
   ]
  },
  {
   "cell_type": "markdown",
   "id": "d1a9e9cb",
   "metadata": {},
   "source": [
    "## Niezrównoleglone działanie"
   ]
  },
  {
   "cell_type": "code",
   "execution_count": null,
   "id": "8b55e57d",
   "metadata": {},
   "outputs": [],
   "source": [
    "for f in range(n_filters_conv_1):\n",
    "\n",
    "    print('filter: '+str(f))\n",
    "\n",
    "    activations_f = activations[0][:,:,:,f]\n",
    "    print(activations_f.shape)\n",
    "    activations_f = activations_f.reshape([activations_f.shape[0],activations_f.shape[1]*activations_f.shape[2]])\n",
    "    print(activations_f.shape)\n",
    "    ac_f = AgglomerativeClustering(n_clusters=10).fit(activations_f)\n",
    "\n",
    "    artifact_clusters['l0_f'+str(f)] = ac_f.labels_"
   ]
  },
  {
   "cell_type": "code",
   "execution_count": null,
   "id": "4be4d9eb-5025-4c59-a022-419e87501ef0",
   "metadata": {
    "colab": {
     "base_uri": "https://localhost:8080/"
    },
    "executionInfo": {
     "elapsed": 91791,
     "status": "ok",
     "timestamp": 1739865350932,
     "user": {
      "displayName": "Anna Burda",
      "userId": "09516679268739957570"
     },
     "user_tz": -60
    },
    "id": "4be4d9eb-5025-4c59-a022-419e87501ef0",
    "outputId": "f2e1aa92-1b8d-4ba5-cdad-72283b90e532"
   },
   "outputs": [],
   "source": [
    "for f in range(n_filters_conv_2):\n",
    "\n",
    "    print('filter: '+str(f))\n",
    "\n",
    "    activations_f = activations[1][:,:,:,f]\n",
    "    activations_f = activations_f.reshape([activations_f.shape[0],activations_f.shape[1]*activations_f.shape[2]])\n",
    "    ac_f = AgglomerativeClustering(n_clusters=10).fit(activations_f)\n",
    "\n",
    "    artifact_clusters['l1_f'+str(f)] = ac_f.labels_"
   ]
  },
  {
   "cell_type": "markdown",
   "id": "a6b24d18",
   "metadata": {},
   "source": [
    "### Warstwy aktywacji"
   ]
  },
  {
   "cell_type": "code",
   "execution_count": null,
   "id": "fe66f81f-491a-4513-b1c7-59e8cd636d40",
   "metadata": {
    "colab": {
     "base_uri": "https://localhost:8080/"
    },
    "executionInfo": {
     "elapsed": 10,
     "status": "ok",
     "timestamp": 1739865350932,
     "user": {
      "displayName": "Anna Burda",
      "userId": "09516679268739957570"
     },
     "user_tz": -60
    },
    "id": "fe66f81f-491a-4513-b1c7-59e8cd636d40",
    "outputId": "d6cdc21d-e309-473d-8aea-5830a80ec7a1"
   },
   "outputs": [],
   "source": [
    "print(artifact_clusters)"
   ]
  },
  {
   "cell_type": "code",
   "execution_count": null,
   "id": "8c475eb1-db3f-49a4-aecf-ec32905d40be",
   "metadata": {
    "executionInfo": {
     "elapsed": 7581,
     "status": "ok",
     "timestamp": 1739865358509,
     "user": {
      "displayName": "Anna Burda",
      "userId": "09516679268739957570"
     },
     "user_tz": -60
    },
    "id": "8c475eb1-db3f-49a4-aecf-ec32905d40be"
   },
   "outputs": [],
   "source": [
    "activations_d_1 = activations[3]\n",
    "ac_d = AgglomerativeClustering(n_clusters=10).fit(activations_d_1)\n",
    "artifact_clusters['l3'] = ac_d.labels_"
   ]
  },
  {
   "cell_type": "code",
   "execution_count": null,
   "id": "3c6d05d9-51ee-43e4-bddd-ab8490f60937",
   "metadata": {
    "colab": {
     "base_uri": "https://localhost:8080/"
    },
    "executionInfo": {
     "elapsed": 2719,
     "status": "ok",
     "timestamp": 1739865362064,
     "user": {
      "displayName": "Anna Burda",
      "userId": "09516679268739957570"
     },
     "user_tz": -60
    },
    "id": "3c6d05d9-51ee-43e4-bddd-ab8490f60937",
    "outputId": "e72036d2-6d62-4dcd-a049-94e2bdcb1e63"
   },
   "outputs": [],
   "source": [
    "# TODO: czy brac oryginalne predykcje czy wyniki modelu?\n",
    "\n",
    "predictions = model.predict(x=x_train)\n",
    "pred = np.argmax(predictions, axis=1)"
   ]
  },
  {
   "cell_type": "code",
   "execution_count": null,
   "id": "73312d06",
   "metadata": {},
   "outputs": [],
   "source": [
    "predictions.shape"
   ]
  },
  {
   "cell_type": "code",
   "execution_count": null,
   "id": "1c51a6eb",
   "metadata": {},
   "outputs": [],
   "source": [
    "a = [p for p in pred if p == 8]\n",
    "\n",
    "print(a)\n",
    "print(len(a))\n"
   ]
  },
  {
   "cell_type": "code",
   "execution_count": null,
   "id": "d23022fb-3497-4bb4-b45d-475b2faf040f",
   "metadata": {
    "executionInfo": {
     "elapsed": 13,
     "status": "ok",
     "timestamp": 1739865362065,
     "user": {
      "displayName": "Anna Burda",
      "userId": "09516679268739957570"
     },
     "user_tz": -60
    },
    "id": "d23022fb-3497-4bb4-b45d-475b2faf040f"
   },
   "outputs": [],
   "source": [
    "artifact_clusters['p'] = pred"
   ]
  },
  {
   "cell_type": "code",
   "execution_count": null,
   "id": "e4d00d2d-8e09-4ac6-aa1b-6bcba0fef48f",
   "metadata": {
    "colab": {
     "base_uri": "https://localhost:8080/"
    },
    "executionInfo": {
     "elapsed": 13,
     "status": "ok",
     "timestamp": 1739865362066,
     "user": {
      "displayName": "Anna Burda",
      "userId": "09516679268739957570"
     },
     "user_tz": -60
    },
    "id": "e4d00d2d-8e09-4ac6-aa1b-6bcba0fef48f",
    "outputId": "e3ba1336-b3cc-462a-d22e-d291a70276e4"
   },
   "outputs": [],
   "source": [
    "print(artifact_clusters)"
   ]
  },
  {
   "cell_type": "markdown",
   "id": "14f8b189",
   "metadata": {},
   "source": [
    "### Generate artifact_clusters for just one class"
   ]
  },
  {
   "cell_type": "code",
   "execution_count": null,
   "id": "43067af1",
   "metadata": {},
   "outputs": [],
   "source": [
    "e_artifact_clusters = artifact_clusters[artifact_clusters['p'] == 2]"
   ]
  },
  {
   "cell_type": "code",
   "execution_count": null,
   "id": "3db7e6db",
   "metadata": {},
   "outputs": [],
   "source": [
    "print(e_artifact_clusters)"
   ]
  },
  {
   "cell_type": "markdown",
   "id": "94c4ef77-b76e-4aa2-88b8-1a58b332d5ca",
   "metadata": {},
   "source": [
    "## Twin (readable)"
   ]
  },
  {
   "cell_type": "code",
   "execution_count": null,
   "id": "9eedc93e-6cd6-4bb4-ab65-b69d67e142a6",
   "metadata": {
    "executionInfo": {
     "elapsed": 9,
     "status": "ok",
     "timestamp": 1739865362066,
     "user": {
      "displayName": "Anna Burda",
      "userId": "09516679268739957570"
     },
     "user_tz": -60
    },
    "id": "9eedc93e-6cd6-4bb4-ab65-b69d67e142a6"
   },
   "outputs": [],
   "source": [
    "sis = pd.DataFrame()"
   ]
  },
  {
   "cell_type": "code",
   "execution_count": null,
   "id": "76d45a77-31b7-485b-9f3a-1bbd90a83fe6",
   "metadata": {
    "executionInfo": {
     "elapsed": 335,
     "status": "ok",
     "timestamp": 1739865362393,
     "user": {
      "displayName": "Anna Burda",
      "userId": "09516679268739957570"
     },
     "user_tz": -60
    },
    "id": "76d45a77-31b7-485b-9f3a-1bbd90a83fe6"
   },
   "outputs": [],
   "source": [
    "sis['conv1'] = e_artifact_clusters.astype(str).loc[:,['l0_f0', 'l0_f1', 'l0_f2', 'l0_f3']].apply('_'.join, axis=1)"
   ]
  },
  {
   "cell_type": "code",
   "execution_count": null,
   "id": "8a56b56e-a48c-457e-83cc-281989c70530",
   "metadata": {
    "executionInfo": {
     "elapsed": 335,
     "status": "ok",
     "timestamp": 1739865362393,
     "user": {
      "displayName": "Anna Burda",
      "userId": "09516679268739957570"
     },
     "user_tz": -60
    },
    "id": "8a56b56e-a48c-457e-83cc-281989c70530"
   },
   "outputs": [],
   "source": [
    "sis['conv2'] = e_artifact_clusters.astype(str).loc[:,['l1_f0', 'l1_f1', 'l1_f2', 'l1_f3']].apply('_'.join, axis=1)"
   ]
  },
  {
   "cell_type": "code",
   "execution_count": null,
   "id": "7ce6d1a6-b318-4ee2-923d-a795a308671f",
   "metadata": {
    "executionInfo": {
     "elapsed": 6,
     "status": "ok",
     "timestamp": 1739865362394,
     "user": {
      "displayName": "Anna Burda",
      "userId": "09516679268739957570"
     },
     "user_tz": -60
    },
    "id": "7ce6d1a6-b318-4ee2-923d-a795a308671f"
   },
   "outputs": [],
   "source": [
    "sis['dense1'] = e_artifact_clusters['l3']"
   ]
  },
  {
   "cell_type": "code",
   "execution_count": null,
   "id": "65d2cdf0-c392-490a-b4e6-6879602d00be",
   "metadata": {
    "executionInfo": {
     "elapsed": 5,
     "status": "ok",
     "timestamp": 1739865362394,
     "user": {
      "displayName": "Anna Burda",
      "userId": "09516679268739957570"
     },
     "user_tz": -60
    },
    "id": "65d2cdf0-c392-490a-b4e6-6879602d00be"
   },
   "outputs": [],
   "source": [
    "sis['output'] = e_artifact_clusters['p']"
   ]
  },
  {
   "cell_type": "code",
   "execution_count": null,
   "id": "438672d2-7c4a-4577-b286-687054f8d6b1",
   "metadata": {
    "colab": {
     "base_uri": "https://localhost:8080/"
    },
    "executionInfo": {
     "elapsed": 5,
     "status": "ok",
     "timestamp": 1739865362394,
     "user": {
      "displayName": "Anna Burda",
      "userId": "09516679268739957570"
     },
     "user_tz": -60
    },
    "id": "438672d2-7c4a-4577-b286-687054f8d6b1",
    "outputId": "eff3a2ea-cec8-4a0f-960f-b2d2049e1834"
   },
   "outputs": [],
   "source": [
    "print(sis)"
   ]
  },
  {
   "cell_type": "code",
   "execution_count": null,
   "id": "ef07d769",
   "metadata": {},
   "outputs": [],
   "source": [
    "def get_rsfg(sis):\n",
    "    \n",
    "    num_cols = sis.shape[1]\n",
    "\n",
    "    rsfg_columns = [\"level\", \"relation\", \"support\", \"certainty\", \"coverage\", \"strength\"]\n",
    "\n",
    "    rsfg_df = pd.DataFrame(columns=rsfg_columns)\n",
    "\n",
    "    for level in range(num_cols - 1):\n",
    "        \n",
    "        edge_counts = {}\n",
    "        source_counts = {}\n",
    "        target_counts = {}\n",
    "        total_possible = len(sis.iloc[:, level + 1])\n",
    "        \n",
    "        for _, row in sis.iterrows():\n",
    "            \n",
    "            source = str(row.iloc[level])\n",
    "            target = str(row.iloc[level + 1])\n",
    "            key = (source, target)\n",
    "            edge_counts[key] = edge_counts.get(key, 0) + 1\n",
    "            source_counts[source] = source_counts.get(source, 0) + 1\n",
    "            target_counts[target] = target_counts.get(target, 0) + 1\n",
    "            \n",
    "        for (source, target), count in edge_counts.items():\n",
    "            \n",
    "            cer = count / source_counts[source] if source_counts[source] else 0\n",
    "            cov = count / target_counts[target] if target_counts[target] else 0\n",
    "            str_value = count / total_possible if total_possible else 0\n",
    "            lev = f\"{level}<>{level+1}\"\n",
    "            rel = f\"{source}-->{target}\"\n",
    "            \n",
    "            new_row = pd.DataFrame(data=np.array([[lev, rel, count, f\"{cer:.6f}\", f\"{cov:.6f}\", f\"{str_value:.6f}\"]]), columns=rsfg_columns)\n",
    "            \n",
    "            rsfg_df = pd.concat([rsfg_df, new_row], ignore_index=True)\n",
    "\n",
    "    return rsfg_df"
   ]
  },
  {
   "cell_type": "code",
   "execution_count": null,
   "id": "174f9695-89c5-4103-863a-20ce8dd8a745",
   "metadata": {},
   "outputs": [],
   "source": [
    "rsfg = get_rsfg(sis)"
   ]
  },
  {
   "cell_type": "code",
   "execution_count": null,
   "id": "dc18ed14-12b5-4a22-99b9-80b943ad8a86",
   "metadata": {},
   "outputs": [],
   "source": [
    "print(rsfg)"
   ]
  },
  {
   "cell_type": "code",
   "execution_count": null,
   "id": "805e1ec6-d122-49df-910d-58becef04739",
   "metadata": {},
   "outputs": [],
   "source": [
    "rsfg['confidence'] = 2*rsfg['certainty'].astype(float)*rsfg['coverage'].astype(float)/(rsfg['certainty'].astype(float)+rsfg['coverage'].astype(float))"
   ]
  },
  {
   "cell_type": "code",
   "execution_count": null,
   "id": "a217d464-ffe6-4b4e-9e96-9d9ffd9d21e5",
   "metadata": {},
   "outputs": [],
   "source": [
    "print(rsfg)"
   ]
  },
  {
   "cell_type": "code",
   "execution_count": null,
   "id": "e0a5bed4-8788-48d7-857b-22863e088671",
   "metadata": {},
   "outputs": [],
   "source": [
    "levels = rsfg['level'].unique()\n",
    "print(levels)"
   ]
  },
  {
   "cell_type": "code",
   "execution_count": null,
   "id": "57e5aeb6-3458-422d-8168-c0e70092b55c",
   "metadata": {},
   "outputs": [],
   "source": [
    "rsfg_layers = list()\n",
    "node_dicts = list()\n",
    "\n",
    "for level in levels:\n",
    "\n",
    "    layer = rsfg.loc[rsfg['level']==level,:]\n",
    "    layer[['source', 'target']] = layer['relation'].str.split('-->', expand=True)\n",
    "\n",
    "    if len(node_dicts)==0:\n",
    "        \n",
    "        node_dict_1 = {key: i for i, key in enumerate(layer['source'].unique())}\n",
    "        node_dicts.append(node_dict_1)\n",
    "\n",
    "        layer['source_id'] = layer['source'].map(node_dict_1)\n",
    "\n",
    "    else:\n",
    "\n",
    "        layer['source_id'] = layer['source'].map(node_dicts[-1])        \n",
    "\n",
    "    node_dict_2 = {key: i for i, key in enumerate(layer['target'].unique())}\n",
    "    node_dicts.append(node_dict_2)\n",
    "\n",
    "    layer['target_id'] = layer['target'].map(node_dict_2)\n",
    "    \n",
    "    layer = layer[['source_id', 'target_id', 'source', 'target', 'confidence']]\n",
    "        \n",
    "    rsfg_layers.append(layer)"
   ]
  },
  {
   "cell_type": "markdown",
   "id": "e7fbe185-3519-4cdc-ba5c-83b35f083d3c",
   "metadata": {},
   "source": [
    "## Genetic Algorithm"
   ]
  },
  {
   "cell_type": "markdown",
   "id": "4e6b963e-491f-4f4b-83b8-801211b2e803",
   "metadata": {},
   "source": [
    "https://pypi.org/project/geneticalgorithm/"
   ]
  },
  {
   "cell_type": "code",
   "execution_count": null,
   "id": "eb621af9-1a44-42cc-be8f-559cf70db92e",
   "metadata": {},
   "outputs": [],
   "source": [
    "def fitness(x):\n",
    "\n",
    "    confidences = list()\n",
    "\n",
    "    for i in range(len(x)-1):\n",
    "\n",
    "        layer = rsfg_layers[i]\n",
    "\n",
    "        confidence = layer.loc[(layer['source_id']==x[i]) & (layer['target_id']==x[i+1]), ['confidence']]\n",
    "\n",
    "        if len(confidence)==0:\n",
    "\n",
    "            return 0\n",
    "            \n",
    "        confidences.append(confidence['confidence'])\n",
    "\n",
    "    return -np.min(np.array(confidences))  "
   ]
  },
  {
   "cell_type": "code",
   "execution_count": null,
   "id": "902b7583-900b-413a-bf44-cdac28a4ed6a",
   "metadata": {},
   "outputs": [],
   "source": [
    "parameters = {'max_num_iteration': 5000,\n",
    "              'population_size': 20,\n",
    "              'parents_portion': 0.3,\n",
    "              'mutation_probability':0.1,\n",
    "              'crossover_probability': 0.1,\n",
    "              'elit_ratio': 0.01,\n",
    "              'crossover_type':'uniform',\n",
    "              'max_iteration_without_improv': None}\n",
    "\n",
    "\n",
    "varbounds = []\n",
    "\n",
    "for d in node_dicts:\n",
    "\n",
    "    varbounds.append([0,len(d)-1])\n",
    "\n",
    "print(varbounds)\n",
    "\n",
    "gen_alg = ga(function=fitness, dimension=len(varbounds), variable_type='int', variable_boundaries=np.array(varbounds), algorithm_parameters=parameters)\n",
    "\n",
    "gen_alg.run()"
   ]
  },
  {
   "cell_type": "code",
   "execution_count": null,
   "id": "0c8d9fad-a12e-4569-a799-f32380b031cb",
   "metadata": {},
   "outputs": [],
   "source": [
    "best_path = gen_alg.output_dict['variable']"
   ]
  },
  {
   "cell_type": "code",
   "execution_count": null,
   "id": "37b3c569-d5cb-4e9b-bcaf-d20f8f726367",
   "metadata": {},
   "outputs": [],
   "source": [
    "best_path_info = pd.DataFrame(columns=['confidence', 'source', 'target'])\n",
    "\n",
    "for i in range(len(best_path)-1):\n",
    "\n",
    "        layer = rsfg_layers[i]\n",
    "\n",
    "        path_info = layer.loc[(layer['source_id']==best_path[i]) & (layer['target_id']==best_path[i+1]), ['confidence', 'source', 'target']]\n",
    "    \n",
    "        best_path_info = pd.concat([best_path_info.dropna(axis=1, how='all') , path_info], ignore_index=True)\n",
    "\n",
    "print(best_path_info)"
   ]
  },
  {
   "cell_type": "markdown",
   "id": "546a5052-576b-4de7-96bb-295bab87881a",
   "metadata": {},
   "source": [
    "## Visualization"
   ]
  },
  {
   "cell_type": "code",
   "execution_count": null,
   "id": "UN_C0wMfIopX",
   "metadata": {
    "colab": {
     "base_uri": "https://localhost:8080/",
     "height": 1000
    },
    "executionInfo": {
     "elapsed": 2973,
     "status": "ok",
     "timestamp": 1739868619859,
     "user": {
      "displayName": "Anna Burda",
      "userId": "09516679268739957570"
     },
     "user_tz": -60
    },
    "id": "UN_C0wMfIopX",
    "outputId": "5fa73fe3-ba14-4f4e-b06f-341372c46fe2"
   },
   "outputs": [],
   "source": [
    "plt.rcParams.update({'font.size': 14})\n",
    "\n",
    "fig, axes = plt.subplots(4, 4, figsize=(20, 25)) \n",
    "fig.suptitle(\"Average activations for all filters in the convolutional layers\")\n",
    "\n",
    "source_cluster_indexes = best_path_info.loc[:,'source'].str.split('_')\n",
    "target_cluster_indexes = best_path_info.loc[:,'target'].str.split('_')\n",
    "\n",
    "row = 0\n",
    "\n",
    "for filter_index in range(4):\n",
    "\n",
    "    source_cluster_index = int(source_cluster_indexes[0][filter_index])\n",
    "    target_cluster_index = int(target_cluster_indexes[0][filter_index])\n",
    "    \n",
    "    activation_data_0 = activations[0][artifact_clusters[f'l0_f{filter_index}'] == source_cluster_index, :, :, filter_index]\n",
    "    cluster_0 = artifact_clusters.loc[artifact_clusters[f'l0_f{filter_index}'] == source_cluster_index, :]\n",
    "\n",
    "    activation_data_1 = activations[1][artifact_clusters[f'l1_f{filter_index}'] == target_cluster_index, :, :, filter_index]\n",
    "    cluster_1= artifact_clusters.loc[artifact_clusters[f'l1_f{filter_index}'] == target_cluster_index, :]\n",
    "\n",
    "    average_activation_0 = np.mean(activation_data_0, axis=0)\n",
    "    average_activation_1 = np.mean(activation_data_1, axis=0)\n",
    "\n",
    "    col = filter_index\n",
    "            \n",
    "    axes[2*row, col].imshow(average_activation_0, cmap=plt.get_cmap('gray'))\n",
    "    axes[2*row, col].axis(\"off\")\n",
    "    axes[2*row, col].set_title(f\"Filter {filter_index}, Cluster {source_cluster_index}\")\n",
    "\n",
    "    bins = np.arange(0, 9 + 1.5) - 0.5\n",
    "    axes[2*row+1, col].hist(cluster_0['p'], bins)\n",
    "    axes[2*row+1, col].set_xticks(bins + 0.5)\n",
    "\n",
    "    axes[2*row+2, col].imshow(average_activation_1, cmap=plt.get_cmap('gray'))\n",
    "    axes[2*row+2, col].axis(\"off\")\n",
    "    axes[2*row+2, col].set_title(f\"Filter {filter_index}, Cluster {target_cluster_index}\")\n",
    "\n",
    "    bins = np.arange(0, 9 + 1.5) - 0.5\n",
    "    axes[2*row+3, col].hist(cluster_1['p'], bins)\n",
    "    axes[2*row+3, col].set_xticks(bins + 0.5)\n",
    "\n",
    "plt.show()"
   ]
  },
  {
   "cell_type": "code",
   "execution_count": null,
   "id": "e29e1d16-1b07-4567-80ee-eb4b136b3eb2",
   "metadata": {},
   "outputs": [],
   "source": [
    "activation_data_3 = activations[3][artifact_clusters[f'l0_f{filter_index}'] == source_cluster_index, :]\n",
    "activation_data_3 = np.mean(activation_data_3, axis=0)\n",
    "plt.imshow(activation_data_3.reshape(activation_data_3.shape[0], 1, 1), cmap=plt.get_cmap('gray'))"
   ]
  }
 ],
 "metadata": {
  "colab": {
   "provenance": []
  },
  "kernelspec": {
   "display_name": "huretex",
   "language": "python",
   "name": "python3"
  },
  "language_info": {
   "codemirror_mode": {
    "name": "ipython",
    "version": 3
   },
   "file_extension": ".py",
   "mimetype": "text/x-python",
   "name": "python",
   "nbconvert_exporter": "python",
   "pygments_lexer": "ipython3",
   "version": "3.11.11"
  }
 },
 "nbformat": 4,
 "nbformat_minor": 5
}
