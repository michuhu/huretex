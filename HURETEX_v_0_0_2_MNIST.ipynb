{
 "cells": [
  {
   "cell_type": "code",
   "execution_count": null,
   "id": "74e79f66-b8dc-4e74-a382-85fd2eb1d482",
   "metadata": {
    "executionInfo": {
     "elapsed": 6070,
     "status": "ok",
     "timestamp": 1739864793200,
     "user": {
      "displayName": "Anna Burda",
      "userId": "09516679268739957570"
     },
     "user_tz": -60
    },
    "id": "fdbf45a1-afee-4e50-b0a5-5dd3e85298c7"
   },
   "outputs": [],
   "source": [
    "import pandas as pd\n",
    "import numpy as np\n",
    "import tensorflow as tf\n",
    "from keras import models\n",
    "from keras import layers\n",
    "from keras.api.datasets import mnist\n",
    "from sklearn.model_selection import train_test_split\n",
    "from sklearn.cluster import AgglomerativeClustering\n",
    "from geneticalgorithm import geneticalgorithm as ga\n",
    "from matplotlib import pyplot as plt"
   ]
  },
  {
   "cell_type": "code",
   "execution_count": 2,
   "id": "0ceb3d0b",
   "metadata": {},
   "outputs": [
    {
     "name": "stdout",
     "output_type": "stream",
     "text": [
      "GPU dostępny: [PhysicalDevice(name='/physical_device:GPU:0', device_type='GPU')]\n"
     ]
    }
   ],
   "source": [
    "print(\"GPU dostępny:\", tf.config.list_physical_devices('GPU'))"
   ]
  },
  {
   "cell_type": "markdown",
   "id": "f1a02419-4cb6-401a-b6cc-e12bc7727a46",
   "metadata": {},
   "source": [
    "## Rough Set Flow Graph (RSFG)"
   ]
  },
  {
   "cell_type": "code",
   "execution_count": 3,
   "id": "a6556de1-3d2d-4f78-8295-3f2787da33e1",
   "metadata": {},
   "outputs": [],
   "source": [
    "def get_rsfg(sis):\n",
    "    \n",
    "    num_cols = sis.shape[1]\n",
    "\n",
    "    rsfg_columns = [\"level\", \"relation\", \"support\", \"certainty\", \"coverage\", \"strength\"]\n",
    "\n",
    "    rsfg_df = pd.DataFrame(columns=rsfg_columns)\n",
    "\n",
    "    for level in range(num_cols - 1):\n",
    "        \n",
    "        edge_counts = {}\n",
    "        source_counts = {}\n",
    "        target_counts = {}\n",
    "        total_possible = len(sis.iloc[:, level + 1])\n",
    "        \n",
    "        for _, row in sis.iterrows():\n",
    "            \n",
    "            source = str(row.iloc[level])\n",
    "            target = str(row.iloc[level + 1])\n",
    "            key = (source, target)\n",
    "            edge_counts[key] = edge_counts.get(key, 0) + 1\n",
    "            source_counts[source] = source_counts.get(source, 0) + 1\n",
    "            target_counts[target] = target_counts.get(target, 0) + 1\n",
    "            \n",
    "        for (source, target), count in edge_counts.items():\n",
    "            \n",
    "            cer = count / source_counts[source] if source_counts[source] else 0\n",
    "            cov = count / target_counts[target] if target_counts[target] else 0\n",
    "            str_value = count / total_possible if total_possible else 0\n",
    "            lev = f\"{level}<>{level+1}\"\n",
    "            rel = f\"{source}-->{target}\"\n",
    "            \n",
    "            new_row = pd.DataFrame(data=np.array([[lev, rel, count, f\"{cer:.6f}\", f\"{cov:.6f}\", f\"{str_value:.6f}\"]]), columns=rsfg_columns)\n",
    "            \n",
    "            rsfg_df = pd.concat([rsfg_df, new_row], ignore_index=True)\n",
    "\n",
    "    return rsfg_df"
   ]
  },
  {
   "cell_type": "markdown",
   "id": "0f220fdf-51f7-407f-b4a2-07c9b1653da6",
   "metadata": {},
   "source": [
    "## Data (MNIST)"
   ]
  },
  {
   "cell_type": "code",
   "execution_count": 4,
   "id": "82770c73-bbd5-4073-8e4c-e32acfcb76b4",
   "metadata": {
    "colab": {
     "base_uri": "https://localhost:8080/"
    },
    "executionInfo": {
     "elapsed": 1154,
     "status": "ok",
     "timestamp": 1739864803166,
     "user": {
      "displayName": "Anna Burda",
      "userId": "09516679268739957570"
     },
     "user_tz": -60
    },
    "id": "82770c73-bbd5-4073-8e4c-e32acfcb76b4",
    "outputId": "57d9b91c-ae98-4b20-81a1-ece32b3aa1b5"
   },
   "outputs": [],
   "source": [
    "(x_train_valid, y_train_valid), (x_test, y_test) = mnist.load_data()\n",
    "x_train, x_valid, y_train, y_valid = train_test_split(x_train_valid, y_train_valid, test_size=0.2, stratify=y_train_valid)\n",
    "\n",
    "x_train = x_train.reshape((x_train.shape[0], x_train.shape[1], x_train.shape[2], 1))\n",
    "x_valid = x_valid.reshape((x_valid.shape[0], x_valid.shape[1], x_valid.shape[2], 1))\n",
    "x_test = x_test.reshape((x_test.shape[0], x_test.shape[1], x_test.shape[2], 1))\n",
    "\n",
    "x_train = x_train.astype('float32')\n",
    "x_valid = x_valid.astype('float32')\n",
    "x_test = x_test.astype('float32')\n",
    "\n",
    "x_train = x_train/255.0\n",
    "x_valid = x_valid/255.0\n",
    "x_test = x_test/255.0\n",
    "\n",
    "y_train = tf.keras.utils.to_categorical(y_train)\n",
    "y_valid = tf.keras.utils.to_categorical(y_valid)\n",
    "y_test = tf.keras.utils.to_categorical(y_test)"
   ]
  },
  {
   "cell_type": "markdown",
   "id": "7f784098-2e1f-4aac-9060-39e60615658d",
   "metadata": {},
   "source": [
    "# Model (unreadable)"
   ]
  },
  {
   "cell_type": "markdown",
   "id": "7099a223",
   "metadata": {},
   "source": [
    "### Load model and dataframe, if you already have them locally:"
   ]
  },
  {
   "cell_type": "code",
   "execution_count": null,
   "id": "275ec93b",
   "metadata": {},
   "outputs": [],
   "source": [
    "model = models.load_model('mnist_model.keras')"
   ]
  },
  {
   "cell_type": "code",
   "execution_count": null,
   "id": "ce3c31f4",
   "metadata": {},
   "outputs": [],
   "source": [
    "artifact_clusters = pd.read_csv('artifact_clusters.csv')\n",
    "print(artifact_clusters)"
   ]
  },
  {
   "cell_type": "markdown",
   "id": "997a710a",
   "metadata": {},
   "source": [
    "# Start training if no model loaded locally"
   ]
  },
  {
   "cell_type": "code",
   "execution_count": 5,
   "id": "53a2d4da-15f3-41fc-8b49-e3d0ff4c93f1",
   "metadata": {
    "executionInfo": {
     "elapsed": 216,
     "status": "ok",
     "timestamp": 1739865019522,
     "user": {
      "displayName": "Anna Burda",
      "userId": "09516679268739957570"
     },
     "user_tz": -60
    },
    "id": "53a2d4da-15f3-41fc-8b49-e3d0ff4c93f1"
   },
   "outputs": [
    {
     "name": "stdout",
     "output_type": "stream",
     "text": [
      "Empty DataFrame\n",
      "Columns: []\n",
      "Index: []\n"
     ]
    }
   ],
   "source": [
    "artifact_clusters = pd.DataFrame()\n",
    "print(artifact_clusters)"
   ]
  },
  {
   "cell_type": "code",
   "execution_count": null,
   "id": "b5bfdfd2-dbd3-4c89-986e-a3c71cd7ca39",
   "metadata": {},
   "outputs": [],
   "source": [
    "# TODO: ekesperymenty z ilością filtrow\n",
    "\n",
    "n_filters_conv_1 = 4 # liczba filtrów w pierwszej warstwie konwolucyjnej\n",
    "filter_size_conv_1 = 5 # rozmiar okienka konwolucji\n",
    "n_filters_conv_2 = 4 # liczba filtrów w drugiej warstwie konwolucyjnej\n",
    "filter_size_conv_2 = 5 # rozmiar okienka konwolucji\n",
    "n_neurons_dense_1 = 50 # liczba neuronów w pierwszej warstwie gęstej\n",
    "n_neurons_dense_2 = 10 # liczba neuronów w drugiej warstwie gęstej\n",
    "\n",
    "n_epochs = 20 # liczba epok\n",
    "batch_size = 16 # rozmiar paczki"
   ]
  },
  {
   "cell_type": "code",
   "execution_count": 7,
   "id": "35826b18-3976-4bdc-b0cd-a65c0400c0d4",
   "metadata": {
    "id": "35826b18-3976-4bdc-b0cd-a65c0400c0d4"
   },
   "outputs": [
    {
     "name": "stderr",
     "output_type": "stream",
     "text": [
      "/Users/ms/DEV/huretex/.venv/lib/python3.11/site-packages/keras/src/layers/convolutional/base_conv.py:107: UserWarning: Do not pass an `input_shape`/`input_dim` argument to a layer. When using Sequential models, prefer using an `Input(shape)` object as the first layer in the model instead.\n",
      "  super().__init__(activity_regularizer=activity_regularizer, **kwargs)\n",
      "2025-04-30 11:46:06.448129: I metal_plugin/src/device/metal_device.cc:1154] Metal device set to: Apple M4 Pro\n",
      "2025-04-30 11:46:06.448162: I metal_plugin/src/device/metal_device.cc:296] systemMemory: 24.00 GB\n",
      "2025-04-30 11:46:06.448173: I metal_plugin/src/device/metal_device.cc:313] maxCacheSize: 8.00 GB\n",
      "2025-04-30 11:46:06.448198: I tensorflow/core/common_runtime/pluggable_device/pluggable_device_factory.cc:305] Could not identify NUMA node of platform GPU ID 0, defaulting to 0. Your kernel may not have been built with NUMA support.\n",
      "2025-04-30 11:46:06.448216: I tensorflow/core/common_runtime/pluggable_device/pluggable_device_factory.cc:271] Created TensorFlow device (/job:localhost/replica:0/task:0/device:GPU:0 with 0 MB memory) -> physical PluggableDevice (device: 0, name: METAL, pci bus id: <undefined>)\n"
     ]
    }
   ],
   "source": [
    "model = models.Sequential()\n",
    "model.add(layers.Conv2D(n_filters_conv_1, (filter_size_conv_1, filter_size_conv_1), activation='relu', input_shape=(x_train.shape[1], x_train.shape[2], x_train.shape[3])))\n",
    "model.add(layers.Conv2D(n_filters_conv_2, (filter_size_conv_2, filter_size_conv_2), activation='relu'))\n",
    "model.add(layers.Flatten())\n",
    "model.add(layers.Dense(n_neurons_dense_1, activation='relu'))\n",
    "model.add(layers.Dense(n_neurons_dense_2, activation='softmax'))\n",
    "model.compile(optimizer='rmsprop', loss='categorical_crossentropy', metrics=['accuracy'])"
   ]
  },
  {
   "cell_type": "code",
   "execution_count": 8,
   "id": "1fbb5bd4-da0a-42c2-93e4-072a18298c21",
   "metadata": {
    "colab": {
     "base_uri": "https://localhost:8080/",
     "height": 305
    },
    "executionInfo": {
     "elapsed": 251,
     "status": "ok",
     "timestamp": 1739864869811,
     "user": {
      "displayName": "Anna Burda",
      "userId": "09516679268739957570"
     },
     "user_tz": -60
    },
    "id": "1fbb5bd4-da0a-42c2-93e4-072a18298c21",
    "outputId": "a7e77112-140b-4343-9b97-4e2c28e4a012"
   },
   "outputs": [
    {
     "data": {
      "text/html": [
       "<pre style=\"white-space:pre;overflow-x:auto;line-height:normal;font-family:Menlo,'DejaVu Sans Mono',consolas,'Courier New',monospace\"><span style=\"font-weight: bold\">Model: \"sequential\"</span>\n",
       "</pre>\n"
      ],
      "text/plain": [
       "\u001b[1mModel: \"sequential\"\u001b[0m\n"
      ]
     },
     "metadata": {},
     "output_type": "display_data"
    },
    {
     "data": {
      "text/html": [
       "<pre style=\"white-space:pre;overflow-x:auto;line-height:normal;font-family:Menlo,'DejaVu Sans Mono',consolas,'Courier New',monospace\">┏━━━━━━━━━━━━━━━━━━━━━━━━━━━━━━━━━┳━━━━━━━━━━━━━━━━━━━━━━━━┳━━━━━━━━━━━━━━━┓\n",
       "┃<span style=\"font-weight: bold\"> Layer (type)                    </span>┃<span style=\"font-weight: bold\"> Output Shape           </span>┃<span style=\"font-weight: bold\">       Param # </span>┃\n",
       "┡━━━━━━━━━━━━━━━━━━━━━━━━━━━━━━━━━╇━━━━━━━━━━━━━━━━━━━━━━━━╇━━━━━━━━━━━━━━━┩\n",
       "│ conv2d (<span style=\"color: #0087ff; text-decoration-color: #0087ff\">Conv2D</span>)                 │ (<span style=\"color: #00d7ff; text-decoration-color: #00d7ff\">None</span>, <span style=\"color: #00af00; text-decoration-color: #00af00\">24</span>, <span style=\"color: #00af00; text-decoration-color: #00af00\">24</span>, <span style=\"color: #00af00; text-decoration-color: #00af00\">4</span>)      │           <span style=\"color: #00af00; text-decoration-color: #00af00\">104</span> │\n",
       "├─────────────────────────────────┼────────────────────────┼───────────────┤\n",
       "│ conv2d_1 (<span style=\"color: #0087ff; text-decoration-color: #0087ff\">Conv2D</span>)               │ (<span style=\"color: #00d7ff; text-decoration-color: #00d7ff\">None</span>, <span style=\"color: #00af00; text-decoration-color: #00af00\">20</span>, <span style=\"color: #00af00; text-decoration-color: #00af00\">20</span>, <span style=\"color: #00af00; text-decoration-color: #00af00\">4</span>)      │           <span style=\"color: #00af00; text-decoration-color: #00af00\">404</span> │\n",
       "├─────────────────────────────────┼────────────────────────┼───────────────┤\n",
       "│ flatten (<span style=\"color: #0087ff; text-decoration-color: #0087ff\">Flatten</span>)               │ (<span style=\"color: #00d7ff; text-decoration-color: #00d7ff\">None</span>, <span style=\"color: #00af00; text-decoration-color: #00af00\">1600</span>)           │             <span style=\"color: #00af00; text-decoration-color: #00af00\">0</span> │\n",
       "├─────────────────────────────────┼────────────────────────┼───────────────┤\n",
       "│ dense (<span style=\"color: #0087ff; text-decoration-color: #0087ff\">Dense</span>)                   │ (<span style=\"color: #00d7ff; text-decoration-color: #00d7ff\">None</span>, <span style=\"color: #00af00; text-decoration-color: #00af00\">50</span>)             │        <span style=\"color: #00af00; text-decoration-color: #00af00\">80,050</span> │\n",
       "├─────────────────────────────────┼────────────────────────┼───────────────┤\n",
       "│ dense_1 (<span style=\"color: #0087ff; text-decoration-color: #0087ff\">Dense</span>)                 │ (<span style=\"color: #00d7ff; text-decoration-color: #00d7ff\">None</span>, <span style=\"color: #00af00; text-decoration-color: #00af00\">10</span>)             │           <span style=\"color: #00af00; text-decoration-color: #00af00\">510</span> │\n",
       "└─────────────────────────────────┴────────────────────────┴───────────────┘\n",
       "</pre>\n"
      ],
      "text/plain": [
       "┏━━━━━━━━━━━━━━━━━━━━━━━━━━━━━━━━━┳━━━━━━━━━━━━━━━━━━━━━━━━┳━━━━━━━━━━━━━━━┓\n",
       "┃\u001b[1m \u001b[0m\u001b[1mLayer (type)                   \u001b[0m\u001b[1m \u001b[0m┃\u001b[1m \u001b[0m\u001b[1mOutput Shape          \u001b[0m\u001b[1m \u001b[0m┃\u001b[1m \u001b[0m\u001b[1m      Param #\u001b[0m\u001b[1m \u001b[0m┃\n",
       "┡━━━━━━━━━━━━━━━━━━━━━━━━━━━━━━━━━╇━━━━━━━━━━━━━━━━━━━━━━━━╇━━━━━━━━━━━━━━━┩\n",
       "│ conv2d (\u001b[38;5;33mConv2D\u001b[0m)                 │ (\u001b[38;5;45mNone\u001b[0m, \u001b[38;5;34m24\u001b[0m, \u001b[38;5;34m24\u001b[0m, \u001b[38;5;34m4\u001b[0m)      │           \u001b[38;5;34m104\u001b[0m │\n",
       "├─────────────────────────────────┼────────────────────────┼───────────────┤\n",
       "│ conv2d_1 (\u001b[38;5;33mConv2D\u001b[0m)               │ (\u001b[38;5;45mNone\u001b[0m, \u001b[38;5;34m20\u001b[0m, \u001b[38;5;34m20\u001b[0m, \u001b[38;5;34m4\u001b[0m)      │           \u001b[38;5;34m404\u001b[0m │\n",
       "├─────────────────────────────────┼────────────────────────┼───────────────┤\n",
       "│ flatten (\u001b[38;5;33mFlatten\u001b[0m)               │ (\u001b[38;5;45mNone\u001b[0m, \u001b[38;5;34m1600\u001b[0m)           │             \u001b[38;5;34m0\u001b[0m │\n",
       "├─────────────────────────────────┼────────────────────────┼───────────────┤\n",
       "│ dense (\u001b[38;5;33mDense\u001b[0m)                   │ (\u001b[38;5;45mNone\u001b[0m, \u001b[38;5;34m50\u001b[0m)             │        \u001b[38;5;34m80,050\u001b[0m │\n",
       "├─────────────────────────────────┼────────────────────────┼───────────────┤\n",
       "│ dense_1 (\u001b[38;5;33mDense\u001b[0m)                 │ (\u001b[38;5;45mNone\u001b[0m, \u001b[38;5;34m10\u001b[0m)             │           \u001b[38;5;34m510\u001b[0m │\n",
       "└─────────────────────────────────┴────────────────────────┴───────────────┘\n"
      ]
     },
     "metadata": {},
     "output_type": "display_data"
    },
    {
     "data": {
      "text/html": [
       "<pre style=\"white-space:pre;overflow-x:auto;line-height:normal;font-family:Menlo,'DejaVu Sans Mono',consolas,'Courier New',monospace\"><span style=\"font-weight: bold\"> Total params: </span><span style=\"color: #00af00; text-decoration-color: #00af00\">81,068</span> (316.67 KB)\n",
       "</pre>\n"
      ],
      "text/plain": [
       "\u001b[1m Total params: \u001b[0m\u001b[38;5;34m81,068\u001b[0m (316.67 KB)\n"
      ]
     },
     "metadata": {},
     "output_type": "display_data"
    },
    {
     "data": {
      "text/html": [
       "<pre style=\"white-space:pre;overflow-x:auto;line-height:normal;font-family:Menlo,'DejaVu Sans Mono',consolas,'Courier New',monospace\"><span style=\"font-weight: bold\"> Trainable params: </span><span style=\"color: #00af00; text-decoration-color: #00af00\">81,068</span> (316.67 KB)\n",
       "</pre>\n"
      ],
      "text/plain": [
       "\u001b[1m Trainable params: \u001b[0m\u001b[38;5;34m81,068\u001b[0m (316.67 KB)\n"
      ]
     },
     "metadata": {},
     "output_type": "display_data"
    },
    {
     "data": {
      "text/html": [
       "<pre style=\"white-space:pre;overflow-x:auto;line-height:normal;font-family:Menlo,'DejaVu Sans Mono',consolas,'Courier New',monospace\"><span style=\"font-weight: bold\"> Non-trainable params: </span><span style=\"color: #00af00; text-decoration-color: #00af00\">0</span> (0.00 B)\n",
       "</pre>\n"
      ],
      "text/plain": [
       "\u001b[1m Non-trainable params: \u001b[0m\u001b[38;5;34m0\u001b[0m (0.00 B)\n"
      ]
     },
     "metadata": {},
     "output_type": "display_data"
    }
   ],
   "source": [
    "model.summary()"
   ]
  },
  {
   "cell_type": "code",
   "execution_count": 9,
   "id": "fd586e66-ff40-44f7-afe0-5d00ff927a94",
   "metadata": {
    "id": "fd586e66-ff40-44f7-afe0-5d00ff927a94"
   },
   "outputs": [
    {
     "name": "stdout",
     "output_type": "stream",
     "text": [
      "Epoch 1/20\n"
     ]
    },
    {
     "name": "stderr",
     "output_type": "stream",
     "text": [
      "2025-04-30 11:46:15.464208: I tensorflow/core/grappler/optimizers/custom_graph_optimizer_registry.cc:117] Plugin optimizer for device_type GPU is enabled.\n"
     ]
    },
    {
     "name": "stdout",
     "output_type": "stream",
     "text": [
      "3000/3000 - 24s - 8ms/step - accuracy: 0.9378 - loss: 0.2249 - val_accuracy: 0.9643 - val_loss: 0.1369\n",
      "Epoch 2/20\n",
      "3000/3000 - 22s - 7ms/step - accuracy: 0.9589 - loss: 0.3260 - val_accuracy: 0.9545 - val_loss: 0.6101\n",
      "Epoch 3/20\n",
      "3000/3000 - 22s - 7ms/step - accuracy: 0.9521 - loss: 1.5185 - val_accuracy: 0.9470 - val_loss: 2.9147\n",
      "Epoch 4/20\n",
      "3000/3000 - 22s - 7ms/step - accuracy: 0.9389 - loss: 8.3254 - val_accuracy: 0.9028 - val_loss: 22.2632\n",
      "Epoch 5/20\n",
      "3000/3000 - 23s - 8ms/step - accuracy: 0.9218 - loss: 36.4263 - val_accuracy: 0.8755 - val_loss: 91.1292\n",
      "Epoch 6/20\n",
      "3000/3000 - 23s - 8ms/step - accuracy: 0.9022 - loss: 149.4753 - val_accuracy: 0.9072 - val_loss: 208.7523\n",
      "Epoch 7/20\n",
      "3000/3000 - 23s - 8ms/step - accuracy: 0.8855 - loss: 528.2419 - val_accuracy: 0.8831 - val_loss: 851.8414\n",
      "Epoch 8/20\n",
      "3000/3000 - 23s - 8ms/step - accuracy: 0.8750 - loss: 1501.7623 - val_accuracy: 0.8736 - val_loss: 2503.6118\n",
      "Epoch 9/20\n",
      "3000/3000 - 23s - 8ms/step - accuracy: 0.8653 - loss: 3587.1311 - val_accuracy: 0.8297 - val_loss: 6932.8242\n",
      "Epoch 10/20\n",
      "3000/3000 - 23s - 8ms/step - accuracy: 0.8592 - loss: 7629.8291 - val_accuracy: 0.8503 - val_loss: 10180.9297\n",
      "Epoch 11/20\n",
      "3000/3000 - 23s - 8ms/step - accuracy: 0.8540 - loss: 14519.2012 - val_accuracy: 0.8285 - val_loss: 19450.4922\n",
      "Epoch 12/20\n",
      "3000/3000 - 23s - 8ms/step - accuracy: 0.8518 - loss: 25131.2285 - val_accuracy: 0.8644 - val_loss: 28623.1758\n",
      "Epoch 13/20\n",
      "3000/3000 - 23s - 8ms/step - accuracy: 0.8472 - loss: 40810.5625 - val_accuracy: 0.8112 - val_loss: 64597.3438\n",
      "Epoch 14/20\n",
      "3000/3000 - 23s - 8ms/step - accuracy: 0.8477 - loss: 61171.0391 - val_accuracy: 0.8298 - val_loss: 86836.8281\n",
      "Epoch 15/20\n",
      "3000/3000 - 23s - 8ms/step - accuracy: 0.8453 - loss: 90891.5391 - val_accuracy: 0.8348 - val_loss: 107490.5703\n",
      "Epoch 16/20\n",
      "3000/3000 - 23s - 8ms/step - accuracy: 0.8417 - loss: 128545.5234 - val_accuracy: 0.8513 - val_loss: 151591.4531\n",
      "Epoch 17/20\n",
      "3000/3000 - 23s - 8ms/step - accuracy: 0.8437 - loss: 172833.8594 - val_accuracy: 0.8294 - val_loss: 229626.9062\n",
      "Epoch 18/20\n",
      "3000/3000 - 23s - 8ms/step - accuracy: 0.8418 - loss: 233349.8438 - val_accuracy: 0.8634 - val_loss: 217863.1094\n",
      "Epoch 19/20\n",
      "3000/3000 - 22s - 7ms/step - accuracy: 0.8422 - loss: 300894.3438 - val_accuracy: 0.7418 - val_loss: 680757.4375\n",
      "Epoch 20/20\n",
      "3000/3000 - 23s - 8ms/step - accuracy: 0.8425 - loss: 386627.3750 - val_accuracy: 0.8434 - val_loss: 568164.3125\n"
     ]
    }
   ],
   "source": [
    "history = model.fit(x_train, y_train, epochs=n_epochs, batch_size=batch_size, validation_data=(x_valid, y_valid), verbose=2)"
   ]
  },
  {
   "cell_type": "code",
   "execution_count": 10,
   "id": "d2e10fdd",
   "metadata": {},
   "outputs": [],
   "source": [
    "# SAVE MODEL LOCALLY\n",
    "model.save('mnist_model.keras')"
   ]
  },
  {
   "cell_type": "code",
   "execution_count": 10,
   "id": "3402d447-cec9-47cb-a71b-efdec2a236e0",
   "metadata": {
    "executionInfo": {
     "elapsed": 215,
     "status": "ok",
     "timestamp": 1739864901133,
     "user": {
      "displayName": "Anna Burda",
      "userId": "09516679268739957570"
     },
     "user_tz": -60
    },
    "id": "3402d447-cec9-47cb-a71b-efdec2a236e0"
   },
   "outputs": [
    {
     "name": "stdout",
     "output_type": "stream",
     "text": [
      "Input:  (None, 28, 28, 1)\n",
      "Output:  [<KerasTensor shape=(None, 24, 24, 4), dtype=float32, sparse=False, ragged=False, name=keras_tensor_1>, <KerasTensor shape=(None, 20, 20, 4), dtype=float32, sparse=False, ragged=False, name=keras_tensor_3>, <KerasTensor shape=(None, 1600), dtype=float32, sparse=False, ragged=False, name=keras_tensor_6>, <KerasTensor shape=(None, 50), dtype=float32, sparse=False, ragged=False, name=keras_tensor_10>, <KerasTensor shape=(None, 10), dtype=float32, sparse=False, ragged=False, name=keras_tensor_15>]\n"
     ]
    }
   ],
   "source": [
    "layer_outputs = [layer.output for layer in model.layers]\n",
    "print(\"Input: \", model.layers[0].input.shape)\n",
    "print(\"Output: \", layer_outputs)\n",
    "activation_model = models.Model(inputs=model.layers[0].input, outputs=layer_outputs)"
   ]
  },
  {
   "cell_type": "code",
   "execution_count": 11,
   "id": "d6c062a4",
   "metadata": {},
   "outputs": [
    {
     "name": "stdout",
     "output_type": "stream",
     "text": [
      "\u001b[1m1500/1500\u001b[0m \u001b[32m━━━━━━━━━━━━━━━━━━━━\u001b[0m\u001b[37m\u001b[0m \u001b[1m2s\u001b[0m 1ms/step\n"
     ]
    }
   ],
   "source": [
    "activations = activation_model.predict(x=x_train)"
   ]
  },
  {
   "cell_type": "code",
   "execution_count": 12,
   "id": "8b55e57d",
   "metadata": {},
   "outputs": [
    {
     "name": "stdout",
     "output_type": "stream",
     "text": [
      "filter: 0\n",
      "(48000, 24, 24)\n",
      "(48000, 576)\n",
      "filter: 1\n",
      "(48000, 24, 24)\n",
      "(48000, 576)\n",
      "filter: 2\n",
      "(48000, 24, 24)\n",
      "(48000, 576)\n",
      "filter: 3\n",
      "(48000, 24, 24)\n",
      "(48000, 576)\n"
     ]
    }
   ],
   "source": [
    "for f in range(n_filters_conv_1):\n",
    "\n",
    "    print('filter: '+str(f))\n",
    "\n",
    "    activations_f = activations[0][:,:,:,f]\n",
    "    print(activations_f.shape)\n",
    "    activations_f = activations_f.reshape([activations_f.shape[0],activations_f.shape[1]*activations_f.shape[2]])\n",
    "    print(activations_f.shape)\n",
    "    ac_f = AgglomerativeClustering(n_clusters=10).fit(activations_f)\n",
    "\n",
    "    artifact_clusters['l0_f'+str(f)] = ac_f.labels_"
   ]
  },
  {
   "cell_type": "code",
   "execution_count": null,
   "id": "4be4d9eb-5025-4c59-a022-419e87501ef0",
   "metadata": {
    "colab": {
     "base_uri": "https://localhost:8080/"
    },
    "executionInfo": {
     "elapsed": 91791,
     "status": "ok",
     "timestamp": 1739865350932,
     "user": {
      "displayName": "Anna Burda",
      "userId": "09516679268739957570"
     },
     "user_tz": -60
    },
    "id": "4be4d9eb-5025-4c59-a022-419e87501ef0",
    "outputId": "f2e1aa92-1b8d-4ba5-cdad-72283b90e532"
   },
   "outputs": [
    {
     "name": "stdout",
     "output_type": "stream",
     "text": [
      "filter: 0\n",
      "filter: 1\n",
      "filter: 2\n",
      "filter: 3\n"
     ]
    }
   ],
   "source": [
    "for f in range(n_filters_conv_2):\n",
    "\n",
    "    print('filter: '+str(f))\n",
    "\n",
    "    activations_f = activations[1][:,:,:,f]\n",
    "    activations_f = activations_f.reshape([activations_f.shape[0],activations_f.shape[1]*activations_f.shape[2]])\n",
    "    ac_f = AgglomerativeClustering(n_clusters=10).fit(activations_f)\n",
    "\n",
    "    artifact_clusters['l1_f'+str(f)] = ac_f.labels_"
   ]
  },
  {
   "cell_type": "code",
   "execution_count": 17,
   "id": "fe66f81f-491a-4513-b1c7-59e8cd636d40",
   "metadata": {
    "colab": {
     "base_uri": "https://localhost:8080/"
    },
    "executionInfo": {
     "elapsed": 10,
     "status": "ok",
     "timestamp": 1739865350932,
     "user": {
      "displayName": "Anna Burda",
      "userId": "09516679268739957570"
     },
     "user_tz": -60
    },
    "id": "fe66f81f-491a-4513-b1c7-59e8cd636d40",
    "outputId": "d6cdc21d-e309-473d-8aea-5830a80ec7a1"
   },
   "outputs": [
    {
     "name": "stdout",
     "output_type": "stream",
     "text": [
      "       l0_f0  l0_f1  l0_f2  l0_f3  l1_f0  l1_f1  l1_f2  l1_f3\n",
      "0          4      3      7      6      5      6      6      6\n",
      "1          3      4      8      5      3      5      4      1\n",
      "2          2      1      6      9      2      1      1      0\n",
      "3          3      4      9      5      3      9      8      5\n",
      "4          0      0      2      1      0      0      0      9\n",
      "...      ...    ...    ...    ...    ...    ...    ...    ...\n",
      "47995      5      4      6      3      3      5      2      1\n",
      "47996      5      5      4      3      1      3      2      5\n",
      "47997      2      9      5      8      2      1      1      0\n",
      "47998      5      4      9      3      1      9      2      5\n",
      "47999      1      6      1      7      7      2      7      2\n",
      "\n",
      "[48000 rows x 8 columns]\n"
     ]
    }
   ],
   "source": [
    "print(artifact_clusters)"
   ]
  },
  {
   "cell_type": "code",
   "execution_count": 18,
   "id": "8c475eb1-db3f-49a4-aecf-ec32905d40be",
   "metadata": {
    "executionInfo": {
     "elapsed": 7581,
     "status": "ok",
     "timestamp": 1739865358509,
     "user": {
      "displayName": "Anna Burda",
      "userId": "09516679268739957570"
     },
     "user_tz": -60
    },
    "id": "8c475eb1-db3f-49a4-aecf-ec32905d40be"
   },
   "outputs": [],
   "source": [
    "activations_d_1 = activations[3]\n",
    "ac_d = AgglomerativeClustering(n_clusters=10).fit(activations_d_1)\n",
    "artifact_clusters['l3'] = ac_d.labels_"
   ]
  },
  {
   "cell_type": "code",
   "execution_count": null,
   "id": "3c6d05d9-51ee-43e4-bddd-ab8490f60937",
   "metadata": {
    "colab": {
     "base_uri": "https://localhost:8080/"
    },
    "executionInfo": {
     "elapsed": 2719,
     "status": "ok",
     "timestamp": 1739865362064,
     "user": {
      "displayName": "Anna Burda",
      "userId": "09516679268739957570"
     },
     "user_tz": -60
    },
    "id": "3c6d05d9-51ee-43e4-bddd-ab8490f60937",
    "outputId": "e72036d2-6d62-4dcd-a049-94e2bdcb1e63"
   },
   "outputs": [
    {
     "name": "stdout",
     "output_type": "stream",
     "text": [
      "\u001b[1m1500/1500\u001b[0m \u001b[32m━━━━━━━━━━━━━━━━━━━━\u001b[0m\u001b[37m\u001b[0m \u001b[1m2s\u001b[0m 1ms/step\n"
     ]
    }
   ],
   "source": [
    "# TODO: czy brac oryginalne predykcje czy wyniki modelu?\n",
    "\n",
    "predictions = model.predict(x=x_train)\n",
    "pred = np.argmax(predictions, axis=1)"
   ]
  },
  {
   "cell_type": "code",
   "execution_count": 1,
   "id": "73312d06",
   "metadata": {},
   "outputs": [
    {
     "ename": "NameError",
     "evalue": "name 'predictions' is not defined",
     "output_type": "error",
     "traceback": [
      "\u001b[31m---------------------------------------------------------------------------\u001b[39m",
      "\u001b[31mNameError\u001b[39m                                 Traceback (most recent call last)",
      "\u001b[36mCell\u001b[39m\u001b[36m \u001b[39m\u001b[32mIn[1]\u001b[39m\u001b[32m, line 1\u001b[39m\n\u001b[32m----> \u001b[39m\u001b[32m1\u001b[39m \u001b[43mpredictions\u001b[49m.shape\n",
      "\u001b[31mNameError\u001b[39m: name 'predictions' is not defined"
     ]
    }
   ],
   "source": [
    "predictions.shape"
   ]
  },
  {
   "cell_type": "code",
   "execution_count": 133,
   "id": "1c51a6eb",
   "metadata": {},
   "outputs": [
    {
     "name": "stdout",
     "output_type": "stream",
     "text": [
      "[8, 8, 8, 8, 8, 8, 8, 8, 8, 8, 8, 8, 8, 8, 8, 8, 8, 8, 8, 8, 8, 8, 8, 8, 8, 8, 8, 8, 8, 8, 8, 8, 8, 8, 8, 8, 8, 8, 8, 8, 8, 8, 8, 8, 8, 8, 8, 8, 8, 8, 8, 8, 8, 8, 8, 8, 8, 8, 8, 8, 8, 8, 8, 8, 8, 8, 8, 8, 8, 8, 8, 8, 8, 8, 8, 8, 8, 8, 8, 8, 8, 8, 8, 8, 8, 8, 8, 8, 8, 8, 8, 8, 8, 8, 8, 8, 8, 8, 8, 8, 8, 8, 8, 8, 8, 8, 8, 8, 8, 8, 8, 8, 8, 8, 8, 8, 8, 8, 8, 8, 8, 8, 8, 8, 8, 8, 8, 8, 8, 8, 8, 8, 8, 8, 8, 8, 8, 8, 8, 8, 8, 8, 8, 8, 8, 8, 8, 8, 8, 8, 8, 8, 8, 8, 8, 8, 8, 8, 8, 8, 8, 8, 8, 8, 8, 8, 8, 8, 8, 8, 8, 8, 8, 8, 8, 8, 8, 8, 8, 8, 8, 8, 8, 8, 8, 8, 8, 8, 8, 8, 8, 8, 8, 8, 8, 8, 8, 8, 8, 8, 8, 8, 8, 8, 8, 8, 8, 8, 8, 8, 8, 8, 8, 8, 8, 8, 8, 8, 8, 8, 8, 8, 8, 8, 8, 8, 8, 8, 8, 8, 8, 8, 8, 8, 8, 8, 8, 8, 8, 8, 8, 8, 8, 8, 8, 8, 8, 8, 8, 8, 8, 8, 8, 8, 8, 8, 8, 8, 8, 8, 8, 8, 8, 8, 8, 8, 8, 8, 8, 8, 8, 8, 8, 8, 8, 8, 8, 8, 8, 8, 8, 8, 8, 8, 8, 8, 8, 8, 8, 8, 8, 8, 8, 8, 8, 8, 8, 8, 8, 8, 8, 8, 8, 8, 8, 8, 8, 8, 8, 8, 8, 8, 8, 8, 8, 8, 8, 8, 8, 8, 8, 8, 8, 8, 8, 8, 8, 8, 8, 8, 8, 8, 8, 8, 8, 8, 8, 8, 8, 8, 8, 8, 8, 8, 8, 8, 8, 8, 8, 8, 8, 8, 8, 8, 8, 8, 8, 8, 8, 8, 8, 8, 8, 8, 8, 8, 8, 8, 8, 8, 8, 8, 8, 8, 8, 8, 8, 8, 8, 8, 8, 8, 8, 8, 8, 8, 8, 8, 8, 8, 8, 8, 8, 8, 8, 8, 8, 8, 8, 8, 8, 8, 8, 8, 8, 8, 8, 8, 8, 8, 8, 8, 8, 8, 8, 8, 8, 8, 8, 8, 8, 8, 8, 8, 8, 8, 8, 8, 8, 8, 8, 8, 8, 8, 8, 8, 8, 8, 8, 8, 8, 8, 8, 8, 8, 8, 8, 8, 8, 8, 8, 8, 8, 8, 8, 8, 8, 8, 8, 8, 8, 8, 8, 8, 8, 8, 8, 8, 8, 8, 8, 8, 8, 8, 8, 8, 8, 8, 8, 8, 8, 8, 8, 8, 8, 8, 8, 8, 8, 8, 8, 8, 8, 8, 8, 8, 8, 8, 8, 8, 8, 8, 8, 8, 8, 8, 8, 8, 8, 8, 8, 8, 8, 8, 8, 8, 8, 8, 8, 8, 8, 8, 8, 8, 8, 8, 8, 8, 8, 8, 8, 8, 8, 8, 8, 8, 8, 8, 8, 8, 8, 8, 8, 8, 8, 8, 8, 8, 8, 8, 8, 8, 8, 8, 8, 8, 8, 8, 8, 8, 8, 8, 8, 8, 8, 8, 8, 8, 8, 8, 8, 8, 8, 8, 8, 8, 8, 8, 8, 8, 8, 8, 8, 8, 8, 8, 8, 8, 8, 8, 8, 8, 8, 8, 8, 8, 8, 8, 8, 8, 8, 8, 8, 8, 8, 8, 8, 8, 8, 8, 8, 8, 8, 8, 8, 8, 8, 8, 8, 8, 8, 8, 8, 8, 8, 8, 8, 8, 8, 8, 8, 8, 8, 8, 8, 8, 8, 8, 8, 8, 8, 8, 8, 8, 8, 8, 8, 8, 8, 8, 8, 8, 8, 8, 8, 8, 8, 8, 8, 8, 8, 8, 8, 8, 8, 8, 8, 8, 8, 8, 8, 8, 8, 8, 8, 8, 8, 8, 8, 8, 8, 8, 8, 8, 8, 8, 8, 8, 8, 8, 8, 8, 8, 8, 8, 8, 8, 8, 8, 8, 8, 8, 8, 8, 8, 8, 8, 8, 8, 8, 8, 8, 8, 8, 8, 8, 8, 8, 8, 8, 8, 8, 8, 8, 8, 8, 8, 8, 8, 8, 8, 8, 8, 8, 8, 8, 8, 8, 8, 8, 8, 8, 8, 8, 8, 8, 8, 8, 8, 8, 8, 8, 8, 8, 8, 8, 8, 8, 8, 8, 8, 8, 8, 8, 8, 8, 8, 8, 8, 8, 8, 8, 8, 8, 8, 8, 8, 8, 8, 8, 8, 8, 8, 8, 8, 8, 8, 8, 8, 8, 8, 8, 8, 8, 8, 8, 8, 8, 8, 8, 8, 8, 8, 8, 8, 8, 8, 8, 8, 8, 8, 8, 8, 8, 8, 8, 8, 8, 8, 8, 8, 8, 8, 8, 8, 8, 8, 8, 8, 8, 8, 8, 8, 8, 8, 8, 8, 8, 8, 8, 8, 8, 8, 8, 8, 8, 8, 8, 8, 8, 8, 8, 8, 8, 8, 8, 8, 8, 8, 8, 8, 8, 8, 8, 8, 8, 8, 8, 8, 8, 8, 8, 8, 8, 8, 8, 8, 8, 8, 8, 8, 8, 8, 8, 8, 8, 8, 8, 8, 8, 8, 8, 8, 8, 8, 8, 8, 8, 8, 8, 8, 8, 8, 8, 8, 8, 8, 8, 8, 8, 8, 8, 8, 8, 8, 8, 8, 8, 8, 8, 8, 8, 8, 8, 8, 8, 8, 8, 8, 8, 8, 8, 8, 8, 8, 8, 8, 8, 8, 8, 8, 8, 8, 8, 8, 8, 8, 8, 8, 8, 8, 8, 8, 8, 8, 8, 8, 8, 8, 8, 8, 8, 8, 8, 8, 8, 8, 8, 8, 8, 8, 8, 8, 8, 8, 8, 8, 8, 8, 8, 8, 8, 8, 8, 8, 8, 8, 8, 8, 8, 8, 8, 8, 8, 8, 8, 8, 8, 8, 8, 8, 8, 8, 8, 8, 8, 8, 8, 8, 8, 8, 8, 8, 8, 8, 8, 8, 8, 8, 8, 8, 8, 8, 8, 8, 8, 8, 8, 8, 8, 8, 8, 8, 8, 8, 8, 8, 8, 8, 8, 8, 8, 8, 8, 8, 8, 8, 8, 8, 8, 8, 8, 8, 8, 8, 8, 8, 8, 8, 8, 8, 8, 8, 8, 8, 8, 8, 8, 8, 8, 8, 8, 8, 8, 8, 8, 8, 8, 8, 8, 8, 8, 8, 8, 8, 8, 8, 8, 8, 8, 8, 8, 8, 8, 8, 8, 8, 8, 8, 8, 8, 8, 8, 8, 8, 8, 8, 8, 8, 8, 8, 8, 8, 8, 8, 8, 8, 8, 8, 8, 8, 8, 8, 8, 8, 8, 8, 8, 8, 8, 8, 8, 8, 8, 8, 8, 8, 8, 8, 8, 8, 8, 8, 8, 8, 8, 8, 8, 8, 8, 8, 8, 8, 8, 8, 8, 8, 8, 8, 8, 8, 8, 8, 8, 8, 8, 8, 8, 8, 8, 8, 8, 8, 8, 8, 8, 8, 8, 8, 8, 8, 8, 8, 8, 8, 8, 8, 8, 8, 8, 8, 8, 8, 8, 8, 8, 8, 8, 8, 8, 8, 8, 8, 8, 8, 8, 8, 8, 8, 8, 8, 8, 8, 8, 8, 8, 8, 8, 8, 8, 8, 8, 8, 8, 8, 8, 8, 8, 8, 8, 8, 8, 8, 8, 8, 8, 8, 8, 8, 8, 8, 8, 8, 8, 8, 8, 8, 8, 8, 8, 8, 8, 8, 8, 8, 8, 8, 8, 8, 8, 8, 8, 8, 8, 8, 8, 8, 8, 8, 8, 8, 8, 8, 8, 8, 8, 8, 8, 8, 8, 8, 8, 8, 8, 8, 8, 8, 8, 8, 8, 8, 8, 8, 8, 8, 8, 8, 8, 8, 8, 8, 8, 8, 8, 8, 8, 8, 8, 8, 8, 8, 8, 8, 8, 8, 8, 8, 8, 8, 8, 8, 8, 8, 8, 8, 8, 8, 8, 8, 8, 8, 8, 8, 8, 8, 8, 8, 8, 8, 8, 8, 8, 8, 8, 8, 8, 8, 8, 8, 8, 8, 8, 8, 8, 8, 8, 8, 8, 8, 8, 8, 8, 8, 8, 8, 8, 8, 8, 8, 8, 8, 8, 8, 8, 8, 8, 8, 8, 8, 8, 8, 8, 8, 8, 8, 8, 8, 8, 8, 8, 8, 8, 8, 8, 8, 8, 8, 8, 8, 8, 8, 8, 8, 8, 8, 8, 8, 8, 8, 8, 8, 8, 8, 8, 8, 8, 8, 8, 8, 8, 8, 8, 8, 8, 8, 8, 8, 8, 8, 8, 8, 8, 8, 8, 8, 8, 8, 8, 8, 8, 8, 8, 8, 8, 8, 8, 8, 8, 8, 8, 8, 8, 8, 8, 8, 8, 8, 8, 8, 8, 8, 8, 8, 8, 8, 8, 8, 8, 8, 8, 8, 8, 8, 8, 8, 8, 8, 8, 8, 8, 8, 8, 8, 8, 8, 8, 8, 8, 8, 8, 8, 8, 8, 8, 8, 8, 8, 8, 8, 8, 8, 8, 8, 8, 8, 8, 8, 8, 8, 8, 8, 8, 8, 8, 8, 8, 8, 8, 8, 8, 8, 8, 8, 8, 8, 8, 8, 8, 8, 8, 8, 8, 8, 8, 8, 8, 8, 8, 8, 8, 8, 8, 8, 8, 8, 8, 8, 8, 8, 8, 8, 8, 8, 8, 8, 8, 8, 8, 8, 8, 8, 8, 8, 8, 8, 8, 8, 8, 8, 8, 8, 8, 8, 8, 8, 8, 8, 8, 8, 8, 8, 8, 8, 8, 8, 8, 8, 8, 8, 8, 8, 8, 8, 8, 8, 8, 8, 8, 8, 8, 8, 8, 8, 8, 8, 8, 8, 8, 8, 8, 8, 8, 8, 8, 8, 8, 8, 8, 8, 8, 8, 8, 8, 8, 8, 8, 8, 8, 8, 8, 8, 8, 8, 8, 8, 8, 8, 8, 8, 8, 8, 8, 8, 8, 8, 8, 8, 8, 8, 8, 8, 8, 8, 8, 8, 8, 8, 8, 8, 8, 8, 8, 8, 8, 8, 8, 8, 8, 8, 8, 8, 8, 8, 8, 8, 8, 8, 8, 8, 8, 8, 8, 8, 8, 8, 8, 8, 8, 8, 8, 8, 8, 8, 8, 8, 8, 8, 8, 8, 8, 8, 8, 8, 8, 8, 8, 8, 8, 8, 8, 8, 8, 8, 8, 8, 8, 8, 8, 8, 8, 8, 8, 8, 8, 8, 8, 8, 8, 8, 8, 8, 8, 8, 8, 8, 8, 8, 8, 8, 8, 8, 8, 8, 8, 8, 8, 8, 8, 8, 8, 8, 8, 8, 8, 8, 8, 8, 8, 8, 8, 8, 8, 8, 8, 8, 8, 8, 8, 8, 8, 8, 8, 8, 8, 8, 8, 8, 8, 8, 8, 8, 8, 8, 8, 8, 8, 8, 8, 8, 8, 8, 8, 8, 8, 8, 8, 8, 8, 8, 8, 8, 8, 8, 8, 8, 8, 8, 8, 8, 8, 8, 8, 8, 8, 8, 8, 8, 8, 8, 8, 8, 8, 8, 8, 8, 8, 8, 8, 8, 8, 8, 8, 8, 8, 8, 8, 8, 8, 8, 8, 8, 8, 8, 8, 8, 8, 8, 8, 8, 8, 8, 8, 8, 8, 8, 8, 8, 8, 8, 8, 8, 8, 8, 8, 8, 8, 8, 8, 8, 8, 8, 8, 8, 8, 8, 8, 8, 8, 8, 8, 8, 8, 8, 8, 8, 8, 8, 8, 8, 8, 8, 8, 8, 8, 8, 8, 8, 8, 8, 8, 8, 8, 8, 8, 8, 8, 8, 8, 8, 8, 8, 8, 8, 8, 8, 8, 8, 8, 8, 8, 8, 8, 8, 8, 8, 8, 8, 8, 8, 8, 8, 8, 8, 8, 8, 8, 8, 8, 8, 8, 8, 8, 8, 8, 8, 8, 8, 8, 8, 8, 8, 8, 8, 8, 8, 8, 8, 8, 8, 8, 8, 8, 8, 8, 8, 8, 8, 8, 8, 8, 8, 8, 8, 8, 8, 8, 8, 8, 8, 8, 8, 8, 8, 8, 8, 8, 8, 8, 8, 8, 8, 8, 8, 8, 8, 8, 8, 8, 8, 8, 8, 8, 8, 8, 8, 8, 8, 8, 8, 8, 8, 8, 8, 8, 8, 8, 8, 8, 8, 8, 8, 8, 8, 8, 8, 8, 8, 8, 8, 8, 8, 8, 8, 8, 8, 8, 8, 8, 8, 8, 8, 8, 8, 8, 8, 8, 8, 8, 8, 8, 8, 8, 8, 8, 8, 8, 8, 8, 8, 8, 8, 8, 8, 8, 8, 8, 8, 8, 8, 8, 8, 8, 8, 8, 8, 8, 8, 8, 8, 8, 8, 8, 8, 8, 8, 8, 8, 8, 8, 8, 8, 8, 8, 8, 8, 8, 8, 8, 8, 8, 8, 8, 8, 8, 8, 8, 8, 8, 8, 8, 8, 8, 8, 8, 8, 8, 8, 8, 8, 8, 8, 8, 8, 8, 8, 8, 8, 8, 8, 8, 8, 8, 8, 8, 8, 8, 8, 8, 8, 8, 8, 8, 8, 8, 8, 8, 8, 8, 8, 8, 8, 8, 8, 8, 8, 8, 8, 8, 8, 8, 8, 8, 8, 8, 8, 8, 8, 8, 8, 8, 8, 8, 8, 8, 8, 8, 8, 8, 8, 8, 8, 8, 8, 8, 8, 8, 8, 8, 8, 8, 8, 8, 8, 8, 8, 8, 8, 8, 8, 8, 8, 8, 8, 8, 8, 8, 8, 8, 8, 8, 8, 8, 8, 8, 8, 8, 8, 8, 8, 8, 8, 8, 8, 8, 8, 8, 8, 8, 8, 8, 8, 8, 8, 8, 8, 8, 8, 8, 8, 8, 8, 8, 8, 8, 8, 8, 8, 8, 8, 8, 8, 8, 8, 8, 8, 8, 8, 8, 8, 8, 8, 8, 8, 8, 8, 8, 8, 8, 8, 8, 8, 8, 8, 8, 8, 8, 8, 8, 8, 8, 8, 8, 8, 8, 8, 8, 8, 8, 8, 8, 8, 8, 8, 8, 8, 8, 8, 8, 8, 8, 8, 8, 8, 8, 8, 8, 8, 8, 8, 8, 8, 8, 8, 8, 8, 8, 8, 8, 8, 8, 8, 8, 8, 8, 8, 8, 8, 8, 8, 8, 8, 8, 8, 8, 8, 8, 8, 8, 8, 8, 8, 8, 8, 8, 8, 8, 8, 8, 8, 8, 8, 8, 8, 8, 8, 8, 8, 8, 8, 8, 8, 8, 8, 8, 8, 8, 8, 8, 8, 8, 8, 8, 8, 8, 8, 8, 8, 8, 8, 8, 8, 8, 8, 8, 8, 8, 8, 8, 8, 8, 8, 8, 8, 8, 8, 8, 8, 8, 8, 8, 8, 8, 8, 8, 8, 8, 8, 8, 8, 8, 8, 8, 8, 8, 8, 8, 8, 8, 8, 8, 8, 8, 8, 8, 8, 8, 8, 8, 8, 8, 8, 8, 8, 8, 8, 8, 8, 8, 8, 8, 8, 8, 8, 8, 8, 8, 8, 8, 8, 8, 8, 8, 8, 8, 8, 8, 8, 8, 8, 8, 8, 8, 8, 8, 8, 8, 8, 8, 8, 8, 8, 8, 8, 8, 8, 8, 8, 8, 8, 8, 8, 8, 8, 8, 8, 8, 8, 8, 8, 8, 8, 8, 8, 8, 8, 8, 8, 8, 8, 8, 8, 8, 8, 8, 8, 8, 8, 8, 8, 8, 8, 8, 8, 8, 8, 8, 8, 8, 8, 8, 8, 8, 8, 8, 8, 8, 8, 8, 8, 8, 8, 8, 8, 8, 8, 8, 8, 8, 8, 8, 8, 8, 8, 8, 8, 8, 8, 8, 8, 8, 8, 8, 8, 8, 8, 8, 8, 8, 8, 8, 8, 8, 8, 8, 8, 8, 8, 8, 8, 8, 8, 8, 8, 8, 8, 8, 8, 8, 8, 8, 8, 8, 8, 8, 8, 8, 8, 8, 8, 8, 8, 8, 8, 8, 8, 8, 8, 8, 8, 8, 8, 8, 8, 8, 8, 8, 8, 8, 8, 8, 8, 8, 8, 8, 8, 8, 8, 8, 8, 8, 8, 8, 8, 8, 8, 8, 8, 8, 8, 8, 8, 8, 8, 8, 8, 8, 8, 8, 8, 8, 8, 8, 8, 8, 8, 8, 8, 8, 8, 8, 8, 8, 8, 8, 8, 8, 8, 8, 8, 8, 8, 8, 8, 8, 8, 8, 8, 8, 8, 8, 8, 8, 8, 8, 8, 8, 8, 8, 8, 8, 8, 8, 8, 8, 8, 8, 8, 8, 8, 8, 8, 8, 8, 8, 8, 8, 8, 8, 8, 8, 8, 8, 8, 8, 8, 8, 8, 8, 8, 8, 8, 8, 8, 8, 8, 8, 8, 8, 8, 8, 8, 8, 8, 8, 8, 8, 8, 8, 8, 8, 8, 8, 8, 8, 8, 8, 8, 8, 8, 8, 8, 8, 8, 8, 8, 8, 8, 8, 8, 8, 8, 8, 8, 8, 8, 8, 8, 8, 8, 8, 8, 8, 8, 8, 8, 8, 8, 8, 8, 8, 8, 8, 8, 8, 8, 8, 8, 8, 8, 8, 8, 8, 8, 8, 8, 8, 8, 8, 8, 8, 8, 8, 8, 8, 8, 8, 8, 8, 8, 8, 8, 8, 8, 8, 8, 8, 8, 8, 8, 8, 8, 8, 8, 8, 8, 8, 8, 8, 8, 8, 8, 8, 8, 8, 8, 8, 8, 8, 8, 8, 8, 8, 8, 8, 8, 8, 8, 8, 8, 8, 8, 8, 8, 8, 8, 8, 8, 8, 8, 8, 8, 8, 8, 8, 8, 8, 8, 8, 8, 8, 8, 8, 8, 8, 8, 8, 8, 8, 8, 8, 8, 8, 8, 8, 8, 8, 8, 8, 8, 8, 8, 8, 8, 8, 8, 8, 8, 8, 8, 8, 8, 8, 8, 8, 8, 8, 8, 8, 8, 8, 8, 8, 8, 8, 8, 8, 8, 8, 8, 8, 8, 8, 8, 8, 8, 8, 8, 8, 8, 8, 8, 8, 8, 8, 8, 8, 8, 8, 8, 8, 8, 8, 8, 8, 8, 8, 8, 8, 8, 8, 8, 8, 8, 8, 8, 8, 8, 8, 8, 8, 8, 8, 8, 8, 8, 8, 8, 8, 8, 8, 8, 8, 8, 8, 8, 8, 8, 8, 8, 8, 8, 8, 8, 8, 8, 8, 8, 8, 8, 8, 8, 8, 8, 8, 8, 8, 8, 8, 8, 8, 8, 8, 8, 8, 8, 8, 8, 8, 8, 8, 8, 8, 8, 8, 8, 8, 8, 8, 8, 8, 8, 8, 8, 8, 8, 8, 8, 8, 8, 8, 8, 8, 8, 8, 8, 8, 8, 8, 8, 8, 8, 8, 8, 8, 8, 8, 8, 8, 8, 8, 8, 8, 8, 8, 8, 8, 8, 8, 8, 8, 8, 8, 8, 8, 8, 8, 8, 8, 8, 8, 8, 8, 8, 8, 8, 8, 8, 8, 8, 8, 8, 8, 8, 8, 8, 8, 8, 8, 8, 8, 8, 8, 8, 8, 8, 8, 8, 8, 8, 8, 8, 8, 8, 8, 8, 8, 8, 8, 8, 8, 8, 8, 8, 8, 8, 8, 8, 8, 8, 8, 8, 8, 8, 8, 8, 8, 8, 8, 8, 8, 8, 8, 8, 8, 8, 8, 8, 8, 8, 8, 8, 8, 8, 8, 8, 8, 8, 8, 8, 8, 8, 8, 8, 8, 8, 8, 8, 8, 8, 8, 8, 8, 8, 8, 8, 8, 8, 8, 8, 8, 8, 8, 8, 8, 8, 8, 8, 8, 8, 8, 8, 8, 8, 8, 8, 8, 8, 8, 8, 8, 8, 8, 8, 8, 8, 8, 8, 8, 8, 8, 8, 8, 8, 8, 8, 8, 8, 8, 8, 8, 8, 8, 8, 8, 8, 8, 8, 8, 8, 8, 8, 8, 8, 8, 8, 8, 8, 8, 8, 8, 8, 8, 8, 8, 8, 8, 8, 8, 8, 8, 8, 8, 8, 8, 8, 8, 8, 8, 8, 8, 8, 8, 8, 8, 8, 8, 8, 8, 8, 8, 8, 8, 8, 8, 8, 8, 8, 8, 8, 8, 8, 8, 8, 8, 8, 8, 8, 8, 8, 8, 8, 8, 8, 8, 8, 8, 8, 8, 8, 8, 8, 8, 8, 8, 8, 8, 8, 8, 8, 8, 8, 8, 8, 8, 8, 8, 8, 8, 8, 8, 8, 8, 8, 8, 8, 8, 8, 8, 8, 8, 8, 8, 8, 8, 8, 8, 8, 8, 8, 8, 8, 8, 8, 8, 8, 8, 8, 8, 8, 8, 8, 8, 8, 8, 8, 8, 8, 8, 8, 8, 8, 8, 8, 8, 8, 8, 8, 8, 8, 8, 8, 8, 8, 8, 8, 8, 8, 8, 8, 8, 8, 8, 8, 8, 8, 8, 8, 8, 8, 8, 8, 8, 8, 8, 8, 8, 8, 8, 8, 8, 8, 8, 8, 8, 8, 8, 8, 8, 8, 8, 8, 8, 8, 8, 8, 8, 8, 8, 8, 8, 8, 8, 8, 8, 8, 8, 8, 8, 8, 8, 8, 8, 8, 8, 8, 8, 8, 8, 8, 8, 8, 8, 8, 8, 8, 8, 8, 8, 8, 8, 8, 8, 8, 8, 8, 8, 8, 8, 8, 8, 8, 8, 8, 8, 8, 8, 8, 8, 8, 8, 8, 8, 8, 8, 8, 8, 8, 8, 8, 8, 8, 8, 8, 8, 8, 8, 8, 8, 8, 8, 8, 8, 8, 8, 8, 8, 8, 8, 8, 8, 8, 8, 8, 8, 8, 8, 8, 8, 8, 8, 8, 8, 8, 8, 8, 8, 8, 8, 8, 8, 8, 8, 8, 8, 8, 8, 8, 8, 8, 8, 8, 8, 8, 8, 8, 8, 8, 8, 8, 8, 8, 8, 8, 8, 8, 8, 8, 8, 8, 8, 8, 8, 8, 8, 8, 8, 8, 8, 8, 8, 8, 8, 8, 8, 8, 8, 8, 8, 8, 8, 8, 8, 8, 8, 8, 8, 8, 8, 8, 8, 8, 8, 8, 8, 8, 8, 8, 8, 8, 8, 8, 8, 8, 8, 8, 8, 8, 8, 8, 8, 8, 8, 8, 8, 8, 8, 8, 8, 8, 8, 8, 8, 8, 8, 8, 8, 8, 8, 8, 8, 8, 8, 8, 8, 8, 8, 8, 8, 8, 8, 8, 8, 8, 8, 8, 8, 8, 8, 8, 8, 8, 8, 8, 8, 8, 8, 8, 8, 8, 8, 8, 8, 8, 8, 8, 8, 8, 8, 8, 8, 8, 8, 8, 8, 8, 8, 8, 8, 8, 8, 8, 8, 8, 8, 8, 8, 8, 8, 8, 8, 8, 8, 8, 8, 8, 8, 8, 8, 8, 8, 8, 8, 8, 8, 8, 8, 8, 8, 8, 8, 8, 8, 8, 8, 8, 8, 8, 8, 8, 8, 8, 8, 8, 8, 8, 8, 8, 8, 8, 8, 8, 8, 8, 8, 8, 8, 8, 8, 8, 8, 8, 8, 8, 8, 8, 8, 8, 8, 8, 8, 8, 8, 8, 8, 8, 8, 8, 8, 8, 8, 8, 8, 8, 8, 8, 8, 8, 8, 8, 8, 8, 8, 8, 8, 8, 8, 8, 8, 8, 8, 8, 8, 8, 8, 8, 8, 8, 8, 8, 8, 8, 8, 8, 8, 8, 8, 8, 8, 8, 8, 8, 8, 8, 8, 8, 8, 8, 8, 8, 8, 8, 8, 8, 8, 8, 8, 8, 8, 8, 8, 8, 8, 8, 8, 8, 8, 8, 8, 8, 8, 8, 8, 8, 8, 8, 8, 8, 8, 8, 8, 8, 8, 8, 8, 8, 8, 8, 8, 8, 8, 8, 8, 8, 8, 8, 8, 8, 8, 8, 8, 8, 8, 8, 8, 8, 8, 8, 8, 8, 8, 8, 8, 8, 8, 8, 8, 8, 8, 8, 8, 8, 8, 8, 8, 8, 8, 8, 8, 8, 8, 8, 8, 8, 8, 8, 8, 8, 8, 8, 8, 8, 8, 8, 8, 8, 8, 8, 8, 8, 8, 8, 8, 8, 8, 8, 8, 8, 8, 8, 8, 8, 8, 8, 8, 8, 8, 8, 8, 8, 8, 8, 8, 8, 8, 8, 8, 8, 8, 8, 8, 8, 8, 8, 8, 8, 8, 8, 8, 8, 8, 8, 8, 8, 8, 8, 8, 8, 8, 8, 8, 8, 8, 8, 8, 8, 8, 8, 8, 8, 8, 8, 8, 8, 8, 8, 8, 8, 8, 8, 8, 8, 8, 8, 8, 8, 8, 8, 8, 8, 8, 8, 8, 8, 8, 8, 8, 8, 8, 8, 8, 8, 8, 8, 8, 8, 8, 8, 8, 8, 8, 8, 8, 8, 8, 8, 8, 8, 8, 8, 8, 8, 8, 8, 8, 8, 8, 8, 8, 8, 8, 8, 8, 8, 8, 8, 8, 8, 8, 8, 8, 8, 8, 8, 8, 8, 8, 8, 8, 8, 8, 8, 8, 8, 8, 8, 8, 8, 8, 8, 8, 8, 8, 8, 8, 8, 8, 8, 8, 8, 8, 8, 8, 8, 8, 8, 8, 8, 8, 8, 8, 8, 8, 8, 8, 8, 8, 8, 8, 8, 8, 8, 8, 8, 8, 8, 8, 8, 8, 8, 8, 8, 8, 8, 8, 8, 8, 8, 8, 8, 8, 8, 8, 8, 8, 8, 8, 8, 8, 8, 8, 8, 8, 8, 8, 8, 8, 8, 8, 8, 8, 8, 8, 8, 8, 8, 8, 8, 8, 8, 8, 8, 8, 8, 8, 8, 8, 8, 8, 8, 8, 8, 8, 8, 8, 8, 8, 8, 8, 8, 8, 8, 8, 8, 8, 8, 8, 8, 8, 8, 8, 8, 8, 8, 8, 8, 8, 8, 8, 8, 8, 8, 8, 8, 8, 8, 8, 8, 8, 8, 8, 8, 8, 8, 8, 8, 8, 8, 8, 8, 8, 8, 8, 8, 8, 8, 8, 8, 8, 8, 8, 8, 8, 8, 8, 8, 8, 8, 8, 8, 8, 8, 8, 8, 8, 8, 8, 8, 8, 8, 8, 8, 8, 8, 8, 8, 8, 8, 8, 8, 8, 8, 8, 8, 8, 8, 8, 8, 8, 8, 8, 8, 8, 8, 8, 8, 8, 8, 8, 8, 8, 8, 8, 8, 8, 8, 8, 8, 8, 8, 8, 8, 8, 8, 8, 8, 8, 8, 8, 8, 8, 8, 8, 8, 8, 8, 8, 8, 8, 8, 8, 8, 8, 8, 8, 8, 8, 8, 8, 8, 8, 8, 8, 8, 8, 8, 8, 8, 8, 8, 8, 8, 8, 8, 8, 8, 8, 8, 8, 8, 8, 8, 8, 8, 8, 8, 8, 8, 8, 8, 8, 8, 8, 8, 8, 8, 8, 8, 8, 8, 8, 8, 8, 8, 8, 8, 8, 8, 8]\n",
      "4318\n"
     ]
    }
   ],
   "source": [
    "a = [p for p in pred if p == 8]\n",
    "\n",
    "print(a)\n",
    "print(len(a))\n"
   ]
  },
  {
   "cell_type": "code",
   "execution_count": 46,
   "id": "d23022fb-3497-4bb4-b45d-475b2faf040f",
   "metadata": {
    "executionInfo": {
     "elapsed": 13,
     "status": "ok",
     "timestamp": 1739865362065,
     "user": {
      "displayName": "Anna Burda",
      "userId": "09516679268739957570"
     },
     "user_tz": -60
    },
    "id": "d23022fb-3497-4bb4-b45d-475b2faf040f"
   },
   "outputs": [],
   "source": [
    "artifact_clusters['p'] = pred"
   ]
  },
  {
   "cell_type": "code",
   "execution_count": 47,
   "id": "e4d00d2d-8e09-4ac6-aa1b-6bcba0fef48f",
   "metadata": {
    "colab": {
     "base_uri": "https://localhost:8080/"
    },
    "executionInfo": {
     "elapsed": 13,
     "status": "ok",
     "timestamp": 1739865362066,
     "user": {
      "displayName": "Anna Burda",
      "userId": "09516679268739957570"
     },
     "user_tz": -60
    },
    "id": "e4d00d2d-8e09-4ac6-aa1b-6bcba0fef48f",
    "outputId": "e3ba1336-b3cc-462a-d22e-d291a70276e4"
   },
   "outputs": [
    {
     "name": "stdout",
     "output_type": "stream",
     "text": [
      "       l0_f0  l0_f1  l0_f2  l0_f3  l1_f0  l1_f1  l1_f2  l1_f3  l3  p\n",
      "0          4      3      7      6      5      6      6      6   6  7\n",
      "1          3      4      8      5      3      5      4      1   3  5\n",
      "2          2      1      6      9      2      1      1      0   4  4\n",
      "3          3      4      9      5      3      9      8      5   1  8\n",
      "4          0      0      2      1      0      0      0      9   4  0\n",
      "...      ...    ...    ...    ...    ...    ...    ...    ...  .. ..\n",
      "47995      5      4      6      3      3      5      2      1   1  8\n",
      "47996      5      5      4      3      1      3      2      5   6  3\n",
      "47997      2      9      5      8      2      1      1      0   0  9\n",
      "47998      5      4      9      3      1      9      2      5   4  6\n",
      "47999      1      6      1      7      7      2      7      2   1  6\n",
      "\n",
      "[48000 rows x 10 columns]\n"
     ]
    }
   ],
   "source": [
    "print(artifact_clusters)"
   ]
  },
  {
   "cell_type": "code",
   "execution_count": 48,
   "id": "07dd1909",
   "metadata": {},
   "outputs": [],
   "source": [
    "# SAVE ARIFACT CLUSTERS to\n",
    "artifact_clusters.to_csv('artifact_clusters.csv', index=False)"
   ]
  },
  {
   "cell_type": "markdown",
   "id": "14f8b189",
   "metadata": {},
   "source": [
    "### Generate artifact_clusters for just one class"
   ]
  },
  {
   "cell_type": "code",
   "execution_count": 178,
   "id": "43067af1",
   "metadata": {},
   "outputs": [],
   "source": [
    "e_artifact_clusters = artifact_clusters[artifact_clusters['p'] == 2]"
   ]
  },
  {
   "cell_type": "code",
   "execution_count": 179,
   "id": "3db7e6db",
   "metadata": {},
   "outputs": [
    {
     "name": "stdout",
     "output_type": "stream",
     "text": [
      "       l0_f0  l0_f1  l0_f2  l0_f3  l1_f0  l1_f1  l1_f2  l1_f3  l3  p\n",
      "5          2      2      1      2      8      8      3      2   5  2\n",
      "18         1      2      9      5      7      2      7      1   4  2\n",
      "21         6      2      3      2      1      5      3      5   6  2\n",
      "26         6      2      3      2      1      5      3      5   9  2\n",
      "44         4      3      8      6      6      5      4      8   6  2\n",
      "...      ...    ...    ...    ...    ...    ...    ...    ...  .. ..\n",
      "47943      6      2      3      2      8      8      3      5   5  2\n",
      "47945      6      2      3      2      8      8      3      5   5  2\n",
      "47962      6      2      8      5      9      5      4      1   6  2\n",
      "47970      6      2      3      6      1      5      3      5   9  2\n",
      "47973      6      2      3      2      8      8      3      5   9  2\n",
      "\n",
      "[3816 rows x 10 columns]\n"
     ]
    }
   ],
   "source": [
    "print(e_artifact_clusters)"
   ]
  },
  {
   "cell_type": "markdown",
   "id": "94c4ef77-b76e-4aa2-88b8-1a58b332d5ca",
   "metadata": {},
   "source": [
    "## Twin (readable)"
   ]
  },
  {
   "cell_type": "code",
   "execution_count": 180,
   "id": "9eedc93e-6cd6-4bb4-ab65-b69d67e142a6",
   "metadata": {
    "executionInfo": {
     "elapsed": 9,
     "status": "ok",
     "timestamp": 1739865362066,
     "user": {
      "displayName": "Anna Burda",
      "userId": "09516679268739957570"
     },
     "user_tz": -60
    },
    "id": "9eedc93e-6cd6-4bb4-ab65-b69d67e142a6"
   },
   "outputs": [],
   "source": [
    "sis = pd.DataFrame()"
   ]
  },
  {
   "cell_type": "code",
   "execution_count": 181,
   "id": "76d45a77-31b7-485b-9f3a-1bbd90a83fe6",
   "metadata": {
    "executionInfo": {
     "elapsed": 335,
     "status": "ok",
     "timestamp": 1739865362393,
     "user": {
      "displayName": "Anna Burda",
      "userId": "09516679268739957570"
     },
     "user_tz": -60
    },
    "id": "76d45a77-31b7-485b-9f3a-1bbd90a83fe6"
   },
   "outputs": [],
   "source": [
    "sis['conv1'] = e_artifact_clusters.astype(str).loc[:,['l0_f0', 'l0_f1', 'l0_f2', 'l0_f3']].apply('_'.join, axis=1)"
   ]
  },
  {
   "cell_type": "code",
   "execution_count": 182,
   "id": "8a56b56e-a48c-457e-83cc-281989c70530",
   "metadata": {
    "executionInfo": {
     "elapsed": 335,
     "status": "ok",
     "timestamp": 1739865362393,
     "user": {
      "displayName": "Anna Burda",
      "userId": "09516679268739957570"
     },
     "user_tz": -60
    },
    "id": "8a56b56e-a48c-457e-83cc-281989c70530"
   },
   "outputs": [],
   "source": [
    "sis['conv2'] = e_artifact_clusters.astype(str).loc[:,['l1_f0', 'l1_f1', 'l1_f2', 'l1_f3']].apply('_'.join, axis=1)"
   ]
  },
  {
   "cell_type": "code",
   "execution_count": 183,
   "id": "7ce6d1a6-b318-4ee2-923d-a795a308671f",
   "metadata": {
    "executionInfo": {
     "elapsed": 6,
     "status": "ok",
     "timestamp": 1739865362394,
     "user": {
      "displayName": "Anna Burda",
      "userId": "09516679268739957570"
     },
     "user_tz": -60
    },
    "id": "7ce6d1a6-b318-4ee2-923d-a795a308671f"
   },
   "outputs": [],
   "source": [
    "sis['dense1'] = e_artifact_clusters['l3']"
   ]
  },
  {
   "cell_type": "code",
   "execution_count": 184,
   "id": "65d2cdf0-c392-490a-b4e6-6879602d00be",
   "metadata": {
    "executionInfo": {
     "elapsed": 5,
     "status": "ok",
     "timestamp": 1739865362394,
     "user": {
      "displayName": "Anna Burda",
      "userId": "09516679268739957570"
     },
     "user_tz": -60
    },
    "id": "65d2cdf0-c392-490a-b4e6-6879602d00be"
   },
   "outputs": [],
   "source": [
    "sis['output'] = e_artifact_clusters['p']"
   ]
  },
  {
   "cell_type": "code",
   "execution_count": 185,
   "id": "438672d2-7c4a-4577-b286-687054f8d6b1",
   "metadata": {
    "colab": {
     "base_uri": "https://localhost:8080/"
    },
    "executionInfo": {
     "elapsed": 5,
     "status": "ok",
     "timestamp": 1739865362394,
     "user": {
      "displayName": "Anna Burda",
      "userId": "09516679268739957570"
     },
     "user_tz": -60
    },
    "id": "438672d2-7c4a-4577-b286-687054f8d6b1",
    "outputId": "eff3a2ea-cec8-4a0f-960f-b2d2049e1834"
   },
   "outputs": [
    {
     "name": "stdout",
     "output_type": "stream",
     "text": [
      "         conv1    conv2  dense1  output\n",
      "5      2_2_1_2  8_8_3_2       5       2\n",
      "18     1_2_9_5  7_2_7_1       4       2\n",
      "21     6_2_3_2  1_5_3_5       6       2\n",
      "26     6_2_3_2  1_5_3_5       9       2\n",
      "44     4_3_8_6  6_5_4_8       6       2\n",
      "...        ...      ...     ...     ...\n",
      "47943  6_2_3_2  8_8_3_5       5       2\n",
      "47945  6_2_3_2  8_8_3_5       5       2\n",
      "47962  6_2_8_5  9_5_4_1       6       2\n",
      "47970  6_2_3_6  1_5_3_5       9       2\n",
      "47973  6_2_3_2  8_8_3_5       9       2\n",
      "\n",
      "[3816 rows x 4 columns]\n"
     ]
    }
   ],
   "source": [
    "print(sis)"
   ]
  },
  {
   "cell_type": "code",
   "execution_count": 186,
   "id": "174f9695-89c5-4103-863a-20ce8dd8a745",
   "metadata": {},
   "outputs": [],
   "source": [
    "rsfg = get_rsfg(sis)"
   ]
  },
  {
   "cell_type": "code",
   "execution_count": 187,
   "id": "dc18ed14-12b5-4a22-99b9-80b943ad8a86",
   "metadata": {},
   "outputs": [
    {
     "name": "stdout",
     "output_type": "stream",
     "text": [
      "    level           relation support certainty  coverage  strength\n",
      "0    0<>1  2_2_1_2-->8_8_3_2       5  0.454545  0.033113  0.001310\n",
      "1    0<>1  1_2_9_5-->7_2_7_1       1  0.500000  1.000000  0.000262\n",
      "2    0<>1  6_2_3_2-->1_5_3_5     530  0.192099  0.841270  0.138889\n",
      "3    0<>1  4_3_8_6-->6_5_4_8      15  0.340909  0.333333  0.003931\n",
      "4    0<>1  1_4_8_4-->6_2_4_1       2  0.666667  0.500000  0.000524\n",
      "..    ...                ...     ...       ...       ...       ...\n",
      "812  2<>3              3-->2     124  1.000000  0.032495  0.032495\n",
      "813  2<>3              0-->2      78  1.000000  0.020440  0.020440\n",
      "814  2<>3              7-->2      11  1.000000  0.002883  0.002883\n",
      "815  2<>3              1-->2      90  1.000000  0.023585  0.023585\n",
      "816  2<>3              8-->2      12  1.000000  0.003145  0.003145\n",
      "\n",
      "[817 rows x 6 columns]\n"
     ]
    }
   ],
   "source": [
    "print(rsfg)"
   ]
  },
  {
   "cell_type": "code",
   "execution_count": 188,
   "id": "805e1ec6-d122-49df-910d-58becef04739",
   "metadata": {},
   "outputs": [],
   "source": [
    "rsfg['confidence'] = 2*rsfg['certainty'].astype(float)*rsfg['coverage'].astype(float)/(rsfg['certainty'].astype(float)+rsfg['coverage'].astype(float))"
   ]
  },
  {
   "cell_type": "code",
   "execution_count": 189,
   "id": "a217d464-ffe6-4b4e-9e96-9d9ffd9d21e5",
   "metadata": {},
   "outputs": [
    {
     "name": "stdout",
     "output_type": "stream",
     "text": [
      "    level           relation support certainty  coverage  strength  confidence\n",
      "0    0<>1  2_2_1_2-->8_8_3_2       5  0.454545  0.033113  0.001310    0.061729\n",
      "1    0<>1  1_2_9_5-->7_2_7_1       1  0.500000  1.000000  0.000262    0.666667\n",
      "2    0<>1  6_2_3_2-->1_5_3_5     530  0.192099  0.841270  0.138889    0.312777\n",
      "3    0<>1  4_3_8_6-->6_5_4_8      15  0.340909  0.333333  0.003931    0.337078\n",
      "4    0<>1  1_4_8_4-->6_2_4_1       2  0.666667  0.500000  0.000524    0.571429\n",
      "..    ...                ...     ...       ...       ...       ...         ...\n",
      "812  2<>3              3-->2     124  1.000000  0.032495  0.032495    0.062945\n",
      "813  2<>3              0-->2      78  1.000000  0.020440  0.020440    0.040061\n",
      "814  2<>3              7-->2      11  1.000000  0.002883  0.002883    0.005749\n",
      "815  2<>3              1-->2      90  1.000000  0.023585  0.023585    0.046083\n",
      "816  2<>3              8-->2      12  1.000000  0.003145  0.003145    0.006270\n",
      "\n",
      "[817 rows x 7 columns]\n"
     ]
    }
   ],
   "source": [
    "print(rsfg)"
   ]
  },
  {
   "cell_type": "code",
   "execution_count": 190,
   "id": "e0a5bed4-8788-48d7-857b-22863e088671",
   "metadata": {},
   "outputs": [
    {
     "name": "stdout",
     "output_type": "stream",
     "text": [
      "['0<>1' '1<>2' '2<>3']\n"
     ]
    }
   ],
   "source": [
    "levels = rsfg['level'].unique()\n",
    "print(levels)"
   ]
  },
  {
   "cell_type": "code",
   "execution_count": 191,
   "id": "57e5aeb6-3458-422d-8168-c0e70092b55c",
   "metadata": {},
   "outputs": [
    {
     "name": "stderr",
     "output_type": "stream",
     "text": [
      "/var/folders/0m/y35n_skn6dn_7xxvwx4kq9140000gn/T/ipykernel_17222/1748982612.py:7: SettingWithCopyWarning: \n",
      "A value is trying to be set on a copy of a slice from a DataFrame.\n",
      "Try using .loc[row_indexer,col_indexer] = value instead\n",
      "\n",
      "See the caveats in the documentation: https://pandas.pydata.org/pandas-docs/stable/user_guide/indexing.html#returning-a-view-versus-a-copy\n",
      "  layer[['source', 'target']] = layer['relation'].str.split('-->', expand=True)\n",
      "/var/folders/0m/y35n_skn6dn_7xxvwx4kq9140000gn/T/ipykernel_17222/1748982612.py:7: SettingWithCopyWarning: \n",
      "A value is trying to be set on a copy of a slice from a DataFrame.\n",
      "Try using .loc[row_indexer,col_indexer] = value instead\n",
      "\n",
      "See the caveats in the documentation: https://pandas.pydata.org/pandas-docs/stable/user_guide/indexing.html#returning-a-view-versus-a-copy\n",
      "  layer[['source', 'target']] = layer['relation'].str.split('-->', expand=True)\n",
      "/var/folders/0m/y35n_skn6dn_7xxvwx4kq9140000gn/T/ipykernel_17222/1748982612.py:14: SettingWithCopyWarning: \n",
      "A value is trying to be set on a copy of a slice from a DataFrame.\n",
      "Try using .loc[row_indexer,col_indexer] = value instead\n",
      "\n",
      "See the caveats in the documentation: https://pandas.pydata.org/pandas-docs/stable/user_guide/indexing.html#returning-a-view-versus-a-copy\n",
      "  layer['source_id'] = layer['source'].map(node_dict_1)\n",
      "/var/folders/0m/y35n_skn6dn_7xxvwx4kq9140000gn/T/ipykernel_17222/1748982612.py:23: SettingWithCopyWarning: \n",
      "A value is trying to be set on a copy of a slice from a DataFrame.\n",
      "Try using .loc[row_indexer,col_indexer] = value instead\n",
      "\n",
      "See the caveats in the documentation: https://pandas.pydata.org/pandas-docs/stable/user_guide/indexing.html#returning-a-view-versus-a-copy\n",
      "  layer['target_id'] = layer['target'].map(node_dict_2)\n",
      "/var/folders/0m/y35n_skn6dn_7xxvwx4kq9140000gn/T/ipykernel_17222/1748982612.py:7: SettingWithCopyWarning: \n",
      "A value is trying to be set on a copy of a slice from a DataFrame.\n",
      "Try using .loc[row_indexer,col_indexer] = value instead\n",
      "\n",
      "See the caveats in the documentation: https://pandas.pydata.org/pandas-docs/stable/user_guide/indexing.html#returning-a-view-versus-a-copy\n",
      "  layer[['source', 'target']] = layer['relation'].str.split('-->', expand=True)\n",
      "/var/folders/0m/y35n_skn6dn_7xxvwx4kq9140000gn/T/ipykernel_17222/1748982612.py:7: SettingWithCopyWarning: \n",
      "A value is trying to be set on a copy of a slice from a DataFrame.\n",
      "Try using .loc[row_indexer,col_indexer] = value instead\n",
      "\n",
      "See the caveats in the documentation: https://pandas.pydata.org/pandas-docs/stable/user_guide/indexing.html#returning-a-view-versus-a-copy\n",
      "  layer[['source', 'target']] = layer['relation'].str.split('-->', expand=True)\n",
      "/var/folders/0m/y35n_skn6dn_7xxvwx4kq9140000gn/T/ipykernel_17222/1748982612.py:18: SettingWithCopyWarning: \n",
      "A value is trying to be set on a copy of a slice from a DataFrame.\n",
      "Try using .loc[row_indexer,col_indexer] = value instead\n",
      "\n",
      "See the caveats in the documentation: https://pandas.pydata.org/pandas-docs/stable/user_guide/indexing.html#returning-a-view-versus-a-copy\n",
      "  layer['source_id'] = layer['source'].map(node_dicts[-1])\n",
      "/var/folders/0m/y35n_skn6dn_7xxvwx4kq9140000gn/T/ipykernel_17222/1748982612.py:23: SettingWithCopyWarning: \n",
      "A value is trying to be set on a copy of a slice from a DataFrame.\n",
      "Try using .loc[row_indexer,col_indexer] = value instead\n",
      "\n",
      "See the caveats in the documentation: https://pandas.pydata.org/pandas-docs/stable/user_guide/indexing.html#returning-a-view-versus-a-copy\n",
      "  layer['target_id'] = layer['target'].map(node_dict_2)\n",
      "/var/folders/0m/y35n_skn6dn_7xxvwx4kq9140000gn/T/ipykernel_17222/1748982612.py:7: SettingWithCopyWarning: \n",
      "A value is trying to be set on a copy of a slice from a DataFrame.\n",
      "Try using .loc[row_indexer,col_indexer] = value instead\n",
      "\n",
      "See the caveats in the documentation: https://pandas.pydata.org/pandas-docs/stable/user_guide/indexing.html#returning-a-view-versus-a-copy\n",
      "  layer[['source', 'target']] = layer['relation'].str.split('-->', expand=True)\n",
      "/var/folders/0m/y35n_skn6dn_7xxvwx4kq9140000gn/T/ipykernel_17222/1748982612.py:7: SettingWithCopyWarning: \n",
      "A value is trying to be set on a copy of a slice from a DataFrame.\n",
      "Try using .loc[row_indexer,col_indexer] = value instead\n",
      "\n",
      "See the caveats in the documentation: https://pandas.pydata.org/pandas-docs/stable/user_guide/indexing.html#returning-a-view-versus-a-copy\n",
      "  layer[['source', 'target']] = layer['relation'].str.split('-->', expand=True)\n",
      "/var/folders/0m/y35n_skn6dn_7xxvwx4kq9140000gn/T/ipykernel_17222/1748982612.py:18: SettingWithCopyWarning: \n",
      "A value is trying to be set on a copy of a slice from a DataFrame.\n",
      "Try using .loc[row_indexer,col_indexer] = value instead\n",
      "\n",
      "See the caveats in the documentation: https://pandas.pydata.org/pandas-docs/stable/user_guide/indexing.html#returning-a-view-versus-a-copy\n",
      "  layer['source_id'] = layer['source'].map(node_dicts[-1])\n",
      "/var/folders/0m/y35n_skn6dn_7xxvwx4kq9140000gn/T/ipykernel_17222/1748982612.py:23: SettingWithCopyWarning: \n",
      "A value is trying to be set on a copy of a slice from a DataFrame.\n",
      "Try using .loc[row_indexer,col_indexer] = value instead\n",
      "\n",
      "See the caveats in the documentation: https://pandas.pydata.org/pandas-docs/stable/user_guide/indexing.html#returning-a-view-versus-a-copy\n",
      "  layer['target_id'] = layer['target'].map(node_dict_2)\n"
     ]
    }
   ],
   "source": [
    "rsfg_layers = list()\n",
    "node_dicts = list()\n",
    "\n",
    "for level in levels:\n",
    "\n",
    "    layer = rsfg.loc[rsfg['level']==level,:]\n",
    "    layer[['source', 'target']] = layer['relation'].str.split('-->', expand=True)\n",
    "\n",
    "    if len(node_dicts)==0:\n",
    "        \n",
    "        node_dict_1 = {key: i for i, key in enumerate(layer['source'].unique())}\n",
    "        node_dicts.append(node_dict_1)\n",
    "\n",
    "        layer['source_id'] = layer['source'].map(node_dict_1)\n",
    "\n",
    "    else:\n",
    "\n",
    "        layer['source_id'] = layer['source'].map(node_dicts[-1])        \n",
    "\n",
    "    node_dict_2 = {key: i for i, key in enumerate(layer['target'].unique())}\n",
    "    node_dicts.append(node_dict_2)\n",
    "\n",
    "    layer['target_id'] = layer['target'].map(node_dict_2)\n",
    "    \n",
    "    layer = layer[['source_id', 'target_id', 'source', 'target', 'confidence']]\n",
    "        \n",
    "    rsfg_layers.append(layer)"
   ]
  },
  {
   "cell_type": "markdown",
   "id": "e7fbe185-3519-4cdc-ba5c-83b35f083d3c",
   "metadata": {},
   "source": [
    "## Genetic Algorithm"
   ]
  },
  {
   "cell_type": "markdown",
   "id": "4e6b963e-491f-4f4b-83b8-801211b2e803",
   "metadata": {},
   "source": [
    "https://pypi.org/project/geneticalgorithm/"
   ]
  },
  {
   "cell_type": "code",
   "execution_count": 192,
   "id": "eb621af9-1a44-42cc-be8f-559cf70db92e",
   "metadata": {},
   "outputs": [],
   "source": [
    "def fitness(x):\n",
    "\n",
    "    confidences = list()\n",
    "\n",
    "    for i in range(len(x)-1):\n",
    "\n",
    "        layer = rsfg_layers[i]\n",
    "\n",
    "        confidence = layer.loc[(layer['source_id']==x[i]) & (layer['target_id']==x[i+1]), ['confidence']]\n",
    "\n",
    "        if len(confidence)==0:\n",
    "\n",
    "            return 0\n",
    "            \n",
    "        confidences.append(confidence['confidence'])\n",
    "\n",
    "    return -np.min(np.array(confidences))  "
   ]
  },
  {
   "cell_type": "code",
   "execution_count": 193,
   "id": "902b7583-900b-413a-bf44-cdac28a4ed6a",
   "metadata": {},
   "outputs": [
    {
     "name": "stdout",
     "output_type": "stream",
     "text": [
      "[[0, 139], [0, 195], [0, 8], [0, 0]]\n",
      " The best solution found:                                                                           \n",
      " [ 6. 30.  4.  0.]\n",
      "\n",
      " Objective function:\n",
      " -0.06294461474389708\n"
     ]
    },
    {
     "data": {
      "image/png": "[encoded data removed]",
      "text/plain": [
       "<Figure size 640x480 with 1 Axes>"
      ]
     },
     "metadata": {},
     "output_type": "display_data"
    }
   ],
   "source": [
    "parameters = {'max_num_iteration': 5000,\n",
    "              'population_size': 20,\n",
    "              'parents_portion': 0.3,\n",
    "              'mutation_probability':0.1,\n",
    "              'crossover_probability': 0.1,\n",
    "              'elit_ratio': 0.01,\n",
    "              'crossover_type':'uniform',\n",
    "              'max_iteration_without_improv': None}\n",
    "\n",
    "\n",
    "varbounds = []\n",
    "\n",
    "for d in node_dicts:\n",
    "\n",
    "    varbounds.append([0,len(d)-1])\n",
    "\n",
    "print(varbounds)\n",
    "\n",
    "gen_alg = ga(function=fitness, dimension=len(varbounds), variable_type='int', variable_boundaries=np.array(varbounds), algorithm_parameters=parameters)\n",
    "\n",
    "gen_alg.run()"
   ]
  },
  {
   "cell_type": "code",
   "execution_count": 194,
   "id": "0c8d9fad-a12e-4569-a799-f32380b031cb",
   "metadata": {},
   "outputs": [],
   "source": [
    "best_path = gen_alg.output_dict['variable']"
   ]
  },
  {
   "cell_type": "code",
   "execution_count": 195,
   "id": "37b3c569-d5cb-4e9b-bcaf-d20f8f726367",
   "metadata": {},
   "outputs": [
    {
     "name": "stdout",
     "output_type": "stream",
     "text": [
      "   confidence   source   target\n",
      "0    0.219512  2_2_3_2  9_8_4_2\n",
      "1    0.142077  9_8_4_2        3\n",
      "2    0.062945        3        2\n"
     ]
    }
   ],
   "source": [
    "best_path_info = pd.DataFrame(columns=['confidence', 'source', 'target'])\n",
    "\n",
    "for i in range(len(best_path)-1):\n",
    "\n",
    "        layer = rsfg_layers[i]\n",
    "\n",
    "        path_info = layer.loc[(layer['source_id']==best_path[i]) & (layer['target_id']==best_path[i+1]), ['confidence', 'source', 'target']]\n",
    "    \n",
    "        best_path_info = pd.concat([best_path_info.dropna(axis=1, how='all') , path_info], ignore_index=True)\n",
    "\n",
    "print(best_path_info)"
   ]
  },
  {
   "cell_type": "markdown",
   "id": "546a5052-576b-4de7-96bb-295bab87881a",
   "metadata": {},
   "source": [
    "## Visualization"
   ]
  },
  {
   "cell_type": "code",
   "execution_count": 199,
   "id": "UN_C0wMfIopX",
   "metadata": {
    "colab": {
     "base_uri": "https://localhost:8080/",
     "height": 1000
    },
    "executionInfo": {
     "elapsed": 2973,
     "status": "ok",
     "timestamp": 1739868619859,
     "user": {
      "displayName": "Anna Burda",
      "userId": "09516679268739957570"
     },
     "user_tz": -60
    },
    "id": "UN_C0wMfIopX",
    "outputId": "5fa73fe3-ba14-4f4e-b06f-341372c46fe2"
   },
   "outputs": [
    {
     "data": {
      "image/png": "[encoded data removed]",
      "text/plain": [
       "<Figure size 2000x2500 with 16 Axes>"
      ]
     },
     "metadata": {},
     "output_type": "display_data"
    }
   ],
   "source": [
    "plt.rcParams.update({'font.size': 14})\n",
    "\n",
    "fig, axes = plt.subplots(4, 4, figsize=(20, 25)) \n",
    "fig.suptitle(\"Average activations for all filters in the convolutional layers\")\n",
    "\n",
    "source_cluster_indexes = best_path_info.loc[:,'source'].str.split('_')\n",
    "target_cluster_indexes = best_path_info.loc[:,'target'].str.split('_')\n",
    "\n",
    "row = 0\n",
    "\n",
    "for filter_index in range(4):\n",
    "\n",
    "    source_cluster_index = int(source_cluster_indexes[0][filter_index])\n",
    "    target_cluster_index = int(target_cluster_indexes[0][filter_index])\n",
    "    \n",
    "    activation_data_0 = activations[0][artifact_clusters[f'l0_f{filter_index}'] == source_cluster_index, :, :, filter_index]\n",
    "    cluster_0 = artifact_clusters.loc[artifact_clusters[f'l0_f{filter_index}'] == source_cluster_index, :]\n",
    "\n",
    "    activation_data_1 = activations[1][artifact_clusters[f'l1_f{filter_index}'] == target_cluster_index, :, :, filter_index]\n",
    "    cluster_1= artifact_clusters.loc[artifact_clusters[f'l1_f{filter_index}'] == target_cluster_index, :]\n",
    "\n",
    "    average_activation_0 = np.mean(activation_data_0, axis=0)\n",
    "    average_activation_1 = np.mean(activation_data_1, axis=0)\n",
    "\n",
    "    col = filter_index\n",
    "            \n",
    "    axes[2*row, col].imshow(average_activation_0, cmap=plt.get_cmap('gray'))\n",
    "    axes[2*row, col].axis(\"off\")\n",
    "    axes[2*row, col].set_title(f\"Filter {filter_index}, Cluster {source_cluster_index}\")\n",
    "\n",
    "    bins = np.arange(0, 9 + 1.5) - 0.5\n",
    "    axes[2*row+1, col].hist(cluster_0['p'], bins)\n",
    "    axes[2*row+1, col].set_xticks(bins + 0.5)\n",
    "\n",
    "    axes[2*row+2, col].imshow(average_activation_1, cmap=plt.get_cmap('gray'))\n",
    "    axes[2*row+2, col].axis(\"off\")\n",
    "    axes[2*row+2, col].set_title(f\"Filter {filter_index}, Cluster {target_cluster_index}\")\n",
    "\n",
    "    bins = np.arange(0, 9 + 1.5) - 0.5\n",
    "    axes[2*row+3, col].hist(cluster_1['p'], bins)\n",
    "    axes[2*row+3, col].set_xticks(bins + 0.5)\n",
    "\n",
    "plt.show()"
   ]
  },
  {
   "cell_type": "code",
   "execution_count": 197,
   "id": "e29e1d16-1b07-4567-80ee-eb4b136b3eb2",
   "metadata": {},
   "outputs": [
    {
     "data": {
      "text/plain": [
       "<matplotlib.image.AxesImage at 0x3b5a1e950>"
      ]
     },
     "execution_count": 197,
     "metadata": {},
     "output_type": "execute_result"
    },
    {
     "data": {
      "image/png": "[encoded data removed]",
      "text/plain": [
       "<Figure size 640x480 with 1 Axes>"
      ]
     },
     "metadata": {},
     "output_type": "display_data"
    }
   ],
   "source": [
    "activation_data_3 = activations[3][artifact_clusters[f'l0_f{filter_index}'] == source_cluster_index, :]\n",
    "activation_data_3 = np.mean(activation_data_3, axis=0)\n",
    "plt.imshow(activation_data_3.reshape(activation_data_3.shape[0], 1, 1), cmap=plt.get_cmap('gray'))"
   ]
  },
  {
   "cell_type": "code",
   "execution_count": null,
   "id": "ad548f0d-1a9d-4e18-a808-2d7ef06093f0",
   "metadata": {},
   "outputs": [],
   "source": []
  }
 ],
 "metadata": {
  "colab": {
   "provenance": []
  },
  "kernelspec": {
   "display_name": ".venv",
   "language": "python",
   "name": "python3"
  },
  "language_info": {
   "codemirror_mode": {
    "name": "ipython",
    "version": 3
   },
   "file_extension": ".py",
   "mimetype": "text/x-python",
   "name": "python",
   "nbconvert_exporter": "python",
   "pygments_lexer": "ipython3",
   "version": "3.11.12"
  }
 },
 "nbformat": 4,
 "nbformat_minor": 5
}
